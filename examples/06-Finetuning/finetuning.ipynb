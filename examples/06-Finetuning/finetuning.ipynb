{
 "cells": [
  {
   "cell_type": "markdown",
   "metadata": {},
   "source": [
    "# How-to Finetune\n",
    "\n",
    "**Before we start**\n",
    "\n",
    "- This tutorial is rendered from a Jupyter notebook that is hosted on GitHub. If you want to run the code yourself, you can find the notebook and configuration files [here](https://github.com/neuralhydrology/neuralhydrology/tree/master/examples/06-Finetuning).\n",
    "- To be able to run this notebook locally, you need to download the publicly available CAMELS US rainfall-runoff dataset and a publicly available extensions for hourly forcing and streamflow data. See the [Data Prerequisites Tutorial](data-prerequisites.nblink) for a detailed description on where to download the data and how to structure your local dataset folder. Note the special [section](data-prerequisites.nblink#CAMELS-US-catchment-attributes) with additional requirements for this tutorial.\n",
    "\n",
    "This tutorial shows how to adapt a pretrained model to a different, eventually much smaller dataset, a concept called finetuning. Finetuning is well-established in machine learning and thus nothing new. Generally speaking, the idea is to use a (very) large and diverse dataset to learn a general understanding of the underlying problem first and then, in a second step, adapt this general model to the target data. Usually, especially if the available target data is limited, pretraining plus finetuning yields (much) better results than only considering the final target data. \n",
    "\n",
    "The connection to hydrology is the following: Often, researchers or operators are only interested in a single basin. However, considering that a Deep Learning (DL) model has to learn all (physical) process understanding from the available training data, it might be understandable that the data records of a single basin might not be enough (see e.g. the presentation linked at [this](https://meetingorganizer.copernicus.org/EGU2020/EGU2020-8855.html) EGU'20 abstract)\n",
    "\n",
    "This is were we apply the concept of pretraining and finetuning: First, we train a DL model (e.g. an LSTM) with a large and diverse, multi-basin dataset (e.g. CAMELS) and then finetune this model to our basin of interest. Everything you need is available in the NeuralHydrology package and in this notebook we will give you an overview of how to actually do it.\n",
    "\n",
    "**Note**: Finetuning can be a tedious task and is usually very sensitive to the learning rate as well as the number of epochs used for finetuning. One reason is that the pretrained models are usually quite large. In fact, most often they are much larger than what would be possible to train for just a single basin. So during finetuning, we have to make sure that this large capacity is not negatively impacting our model results. Common approaches are to a) only allow parts of the model to be adapted during finetuning and/or b) to train with a much lower learning rate. So far, no publication was published that presents a universally working approach for finetuning in hydrology. So be aware that the results may vary and you might need to invest some time before finding a good strategy. However, in our experience it was always possible to get better results _with_ finetuning than without.\n",
    "\n",
    "**To summarize**: If you are interested in getting the best-performing Deep Learning model for a single basin, pretraining on a large and diverse dataset, followed by finetuning the pretrained model on your target basin is the way to go."
   ]
  },
  {
   "cell_type": "code",
   "execution_count": 3,
   "metadata": {},
   "outputs": [],
   "source": [
    "# Imports\n",
    "from pathlib import Path\n",
    "import sys\n",
    "sys.path.append(\"../..\")\n",
    "\n",
    "import pandas as pd\n",
    "import torch\n",
    "from neuralhydrology.nh_run import start_run, eval_run, finetune"
   ]
  },
  {
   "cell_type": "markdown",
   "metadata": {},
   "source": [
    "## Pretraining\n",
    "\n",
    "In the first step, we need to pretrain our model on a large and possibly diverse dataset. Our target basin does not necessarily have to be a part of this dataset, but usually it should be better to include it.\n",
    "\n",
    "For the sake of the demonstration, we will train an LSTM on the CAMELS US dataset and then finetune this model to a random basin. Note that it is possible to use other inputs during pretraining and finetuning, if additional embedding layers (before the LSTM) are used, which we will ignore for now. Furthermore, we will concentrate only on demonstrating the \"how-to\" rather than striving for best-possible performance. To save time and energy, we will only pretrain the model for a small number of epochs. When striving for the best possible performance, you should make sure that you pretrain the model as best as possible, before starting to finetune.\n",
    "\n",
    "We will stick closely to the model and experimental setup from [Kratzert et al. (2019)](https://hess.copernicus.org/articles/23/5089/2019/hess-23-5089-2019.html). To summarize:\n",
    "- A single LSTM layer with a hidden size of 128.\n",
    "- Input sequences are 365 days and the prediction is made at the last timestep.\n",
    "- We will use the same CAMELS attributes, as in the publication mentioned above, as additional inputs at every time step so that the model can learn different hydrological behaviors depending on the catchment properties.\n",
    "\n",
    "For more details, take a look at the config print-out below.\n",
    "\n",
    "**Note**\n",
    "- The config file assumes that the CAMELS US dataset is stored under `data/CAMELS_US` (relative to the main directory of this repository) or a symbolic link exists at this location. Make sure that this folder contains the required subdirectories `basin_mean_forcing`, `usgs_streamflow` and `camels_attributes_v2.0`. If your data is stored at a different location and you can't or don't want to create a symbolic link, you will need to change the `data_dir` argument in the `531_basins.yml` config file that is located in the same directory as this notebook.\n",
    "- By default, the config (`531_basins.yml`) assumes that you have a CUDA-capable NVIDIA GPU (see config argument `device`). In case you don't have any or you have one but want to train on the CPU, you can either change the config argument to `device: cpu` or pass `gpu=-1` to the `start_run()` function. Please note that training such a model on such a large dataset on CPU takes a very long time. \n",
    "- If you want to train on MacOS devices with Metal programming framework which enables high-performance training on GPU for MacOS, change the config argument to `device: mps` and don't pass the `gpu` argument to the `start_run()` function."
   ]
  },
  {
   "cell_type": "code",
   "execution_count": 4,
   "metadata": {},
   "outputs": [
    {
     "name": "stdout",
     "output_type": "stream",
     "text": [
      "2025-07-23 09:22:23,138: Logging to c:\\Users\\everett\\Documents\\GitHub\\neuralhydrology\\examples\\06-Finetuning\\runs\\cudalstm_531_basins_2307_092223\\output.log initialized.\n",
      "2025-07-23 09:22:23,139: ### Folder structure created at c:\\Users\\everett\\Documents\\GitHub\\neuralhydrology\\examples\\06-Finetuning\\runs\\cudalstm_531_basins_2307_092223\n",
      "2025-07-23 09:22:23,140: ### Run configurations for cudalstm_531_basins\n",
      "2025-07-23 09:22:23,140: experiment_name: cudalstm_531_basins\n",
      "2025-07-23 09:22:23,141: run_dir: c:\\Users\\everett\\Documents\\GitHub\\neuralhydrology\\examples\\06-Finetuning\\runs\\cudalstm_531_basins_2307_092223\n",
      "2025-07-23 09:22:23,141: train_basin_file: 531_basin_list.txt\n",
      "2025-07-23 09:22:23,143: validation_basin_file: 531_basin_list.txt\n",
      "2025-07-23 09:22:23,143: test_basin_file: 531_basin_list.txt\n",
      "2025-07-23 09:22:23,144: train_start_date: 1999-10-01 00:00:00\n",
      "2025-07-23 09:22:23,144: train_end_date: 2008-09-30 00:00:00\n",
      "2025-07-23 09:22:23,145: validation_start_date: 1980-10-01 00:00:00\n",
      "2025-07-23 09:22:23,146: validation_end_date: 1989-09-30 00:00:00\n",
      "2025-07-23 09:22:23,146: test_start_date: 1989-10-01 00:00:00\n",
      "2025-07-23 09:22:23,147: test_end_date: 1999-09-30 00:00:00\n",
      "2025-07-23 09:22:23,148: seed: 123\n",
      "2025-07-23 09:22:23,148: device: cuda:0\n",
      "2025-07-23 09:22:23,149: validate_every: 1\n",
      "2025-07-23 09:22:23,149: validate_n_random_basins: 531\n",
      "2025-07-23 09:22:23,150: metrics: ['NSE']\n",
      "2025-07-23 09:22:23,150: model: cudalstm\n",
      "2025-07-23 09:22:23,151: head: regression\n",
      "2025-07-23 09:22:23,151: hidden_size: 128\n",
      "2025-07-23 09:22:23,153: initial_forget_bias: 3\n",
      "2025-07-23 09:22:23,153: output_dropout: 0.4\n",
      "2025-07-23 09:22:23,154: output_activation: linear\n",
      "2025-07-23 09:22:23,154: optimizer: Adam\n",
      "2025-07-23 09:22:23,155: loss: NSE\n",
      "2025-07-23 09:22:23,155: learning_rate: {0: 0.001, 1: 0.0005}\n",
      "2025-07-23 09:22:23,156: batch_size: 256\n",
      "2025-07-23 09:22:23,156: epochs: 3\n",
      "2025-07-23 09:22:23,157: clip_gradient_norm: 1\n",
      "2025-07-23 09:22:23,157: predict_last_n: 1\n",
      "2025-07-23 09:22:23,158: seq_length: 365\n",
      "2025-07-23 09:22:23,158: num_workers: 8\n",
      "2025-07-23 09:22:23,159: log_interval: 5\n",
      "2025-07-23 09:22:23,159: log_tensorboard: True\n",
      "2025-07-23 09:22:23,160: save_weights_every: 1\n",
      "2025-07-23 09:22:23,160: save_validation_results: True\n",
      "2025-07-23 09:22:23,160: dataset: camels_us\n",
      "2025-07-23 09:22:23,161: data_dir: ..\\..\\data\\CAMELS_US\n",
      "2025-07-23 09:22:23,161: forcings: ['daymet']\n",
      "2025-07-23 09:22:23,161: dynamic_inputs: ['prcp(mm/day)', 'srad(W/m2)', 'tmax(C)', 'tmin(C)', 'vp(Pa)']\n",
      "2025-07-23 09:22:23,163: target_variables: ['QObs(mm/d)']\n",
      "2025-07-23 09:22:23,163: static_attributes: ['elev_mean', 'slope_mean', 'area_gages2', 'frac_forest', 'lai_max', 'lai_diff', 'gvf_max', 'gvf_diff', 'soil_depth_pelletier', 'soil_depth_statsgo', 'soil_porosity', 'soil_conductivity', 'max_water_content', 'sand_frac', 'silt_frac', 'clay_frac', 'carbonate_rocks_frac', 'geol_permeability', 'p_mean', 'pet_mean', 'aridity', 'frac_snow', 'high_prec_freq', 'high_prec_dur', 'low_prec_freq', 'low_prec_dur']\n",
      "2025-07-23 09:22:23,164: number_of_basins: 531\n",
      "2025-07-23 09:22:23,164: train_dir: c:\\Users\\everett\\Documents\\GitHub\\neuralhydrology\\examples\\06-Finetuning\\runs\\cudalstm_531_basins_2307_092223\\train_data\n",
      "2025-07-23 09:22:23,165: img_log_dir: c:\\Users\\everett\\Documents\\GitHub\\neuralhydrology\\examples\\06-Finetuning\\runs\\cudalstm_531_basins_2307_092223\\img_log\n",
      "2025-07-23 09:22:23,184: ### Device cuda:0 will be used for training\n",
      "2025-07-23 09:22:23,305: Loading basin data into xarray data set.\n",
      "100%|██████████| 531/531 [00:50<00:00, 10.49it/s]\n",
      "2025-07-23 09:23:14,330: Calculating target variable stds per basin\n",
      "100%|██████████| 531/531 [00:00<00:00, 1614.33it/s]\n",
      "2025-07-23 09:23:14,769: Create lookup table and convert to pytorch tensor\n",
      "100%|██████████| 531/531 [00:18<00:00, 28.49it/s]\n",
      "2025-07-23 09:23:41,146: Setting learning rate to 0.0005\n",
      "# Epoch 1: 100%|██████████| 6821/6821 [07:14<00:00, 15.71it/s, Loss: 0.0013] \n",
      "2025-07-23 09:30:55,311: Epoch 1 average loss: avg_loss: 0.03647, avg_total_loss: 0.03647\n",
      "# Validation:  29%|██▉       | 156/531 [01:34<05:07,  1.22it/s]2025-07-23 09:32:29,629: The following basins had not enough valid target values to calculate a standard deviation: 02427250. NSE loss values for this basin will be NaN.\n",
      "# Validation:  79%|███████▊  | 418/531 [03:58<01:02,  1.79it/s]2025-07-23 09:34:54,049: The following basins had not enough valid target values to calculate a standard deviation: 09484600. NSE loss values for this basin will be NaN.\n",
      "# Validation: 100%|██████████| 531/531 [04:59<00:00,  1.77it/s]\n",
      "2025-07-23 09:35:54,725: Stored metrics at c:\\Users\\everett\\Documents\\GitHub\\neuralhydrology\\examples\\06-Finetuning\\runs\\cudalstm_531_basins_2307_092223\\validation\\model_epoch001\\validation_metrics.csv\n",
      "2025-07-23 09:35:54,848: Stored results at c:\\Users\\everett\\Documents\\GitHub\\neuralhydrology\\examples\\06-Finetuning\\runs\\cudalstm_531_basins_2307_092223\\validation\\model_epoch001\\validation_results.p\n",
      "2025-07-23 09:35:54,863: Epoch 1 average validation loss: 0.03164 -- Median validation metrics: avg_loss: 0.03164, NSE: 0.63779\n",
      "# Epoch 2: 100%|██████████| 6821/6821 [07:04<00:00, 16.07it/s, Loss: 0.0012] \n",
      "2025-07-23 09:42:59,421: Epoch 2 average loss: avg_loss: 0.02325, avg_total_loss: 0.02325\n",
      "# Validation: 100%|██████████| 531/531 [03:59<00:00,  2.22it/s]\n",
      "2025-07-23 09:46:58,717: Stored metrics at c:\\Users\\everett\\Documents\\GitHub\\neuralhydrology\\examples\\06-Finetuning\\runs\\cudalstm_531_basins_2307_092223\\validation\\model_epoch002\\validation_metrics.csv\n",
      "2025-07-23 09:46:58,848: Stored results at c:\\Users\\everett\\Documents\\GitHub\\neuralhydrology\\examples\\06-Finetuning\\runs\\cudalstm_531_basins_2307_092223\\validation\\model_epoch002\\validation_results.p\n",
      "2025-07-23 09:46:58,864: Epoch 2 average validation loss: 0.02766 -- Median validation metrics: avg_loss: 0.02766, NSE: 0.67543\n",
      "# Epoch 3: 100%|██████████| 6821/6821 [06:55<00:00, 16.42it/s, Loss: 0.0076] \n",
      "2025-07-23 09:53:54,201: Epoch 3 average loss: avg_loss: 0.02093, avg_total_loss: 0.02093\n",
      "# Validation: 100%|██████████| 531/531 [03:58<00:00,  2.23it/s]\n",
      "2025-07-23 09:57:52,670: Stored metrics at c:\\Users\\everett\\Documents\\GitHub\\neuralhydrology\\examples\\06-Finetuning\\runs\\cudalstm_531_basins_2307_092223\\validation\\model_epoch003\\validation_metrics.csv\n",
      "2025-07-23 09:57:52,802: Stored results at c:\\Users\\everett\\Documents\\GitHub\\neuralhydrology\\examples\\06-Finetuning\\runs\\cudalstm_531_basins_2307_092223\\validation\\model_epoch003\\validation_results.p\n",
      "2025-07-23 09:57:52,820: Epoch 3 average validation loss: 0.02580 -- Median validation metrics: avg_loss: 0.02580, NSE: 0.68778\n"
     ]
    }
   ],
   "source": [
    "# by default we assume that you have at least one CUDA-capable NVIDIA GPU or MacOS with Metal support\n",
    "if torch.cuda.is_available() or torch.backends.mps.is_available():\n",
    "    start_run(config_file=Path(\"531_basins.yml\"))\n",
    "\n",
    "# fall back to CPU-only mode\n",
    "else:\n",
    "    start_run(config_file=Path(\"531_basins.yml\"), gpu=-1)"
   ]
  },
  {
   "cell_type": "markdown",
   "metadata": {},
   "source": [
    "We end with an okay'ish model that should be enough for the purpose of this demonstration. Remember we only train for a limited number of epochs here.\n",
    "\n",
    "Next, we'll load the validation results into memory so we can select a basin to demonstrate how to finetune based on the model performance. \n",
    "Since the folder name is created dynamically (including the date and time of the start of the run) you will need to change the `run_dir` argument according to your local directory name. \n",
    "\n",
    "Here, we will select a random basin from the lower 50% of the NSE distribution, i.e. a basin where the NSE is below the median NSE. Usually, you'll see better performance gains for basins with lower model performance than for those where the base model is already really good."
   ]
  },
  {
   "cell_type": "code",
   "execution_count": 6,
   "metadata": {},
   "outputs": [
    {
     "name": "stdout",
     "output_type": "stream",
     "text": [
      "Median NSE of the validation period 0.688\n",
      "Selected basin: 02027500 with an NSE of 0.497\n"
     ]
    }
   ],
   "source": [
    "# Load validation results from the last epoch\n",
    "run_dir = Path(\"runs/cudalstm_531_basins_2307_092223/\")\n",
    "df = pd.read_csv(run_dir / \"validation\" / \"model_epoch003\" / \"validation_metrics.csv\", dtype={'basin': str})\n",
    "df = df.set_index('basin')\n",
    "\n",
    "# Compute the median NSE from all basins, where discharge observations are available for that period\n",
    "print(f\"Median NSE of the validation period {df['NSE'].median():.3f}\")\n",
    "\n",
    "# Select a random basins from the lower 50% of the NSE distribution\n",
    "basin = df.loc[df[\"NSE\"] < df[\"NSE\"].median()].sample(n=1).index[0]\n",
    "\n",
    "print(f\"Selected basin: {basin} with an NSE of {df.loc[df.index == basin, 'NSE'].values[0]:.3f}\")"
   ]
  },
  {
   "cell_type": "markdown",
   "metadata": {},
   "source": [
    "## Finetuning\n",
    "\n",
    "Next, we will show how to perform finetuning for the basin selected above, based on the model we just trained. The function to use is `finetune` from `neuralhydrology.nh_run` if you want to train from within a script or notebook. If you want to start finetuning from the command line, you can also call the `nh-run` utility with the `finetune` argument, instead of e.g. `train` or `evaluate`.\n",
    "\n",
    "The only thing required, similar to the model training itself, is a config file. This config however has slightly different requirements to a normal model config and works slightly different:\n",
    "- The config has to contain the following two arguments:\n",
    "    - `base_run_dir`: The path to the directory of the pre-trained model.\n",
    "    - `finetune_modules`: Which parts of the pre-trained model you want to finetune. Check the documentation of each model class for a list of all possible parts. Often only parts, e.g. the output layer, are trained during finetuning and the rest is kept fixed. There is no general rule of thumb and most likely you will have to try both.\n",
    "- Any additional argument contained in this config will overwrite the config argument of the pre-trained model. Everything _not_ specified will be taken from the pre-trained model. That is, you can e.g. specify a new basin file in the finetuning config (by `train_basin_file`) to finetune the pre-trained model on a different set of basins, or even just a single basin as we will do in this notebook. You can also change the learning rate, loss function, evaluation metrics and so on. The only thing you can not change are arguments that change the model architecture (e.g. `model`, `hidden_size` etc.), because this leads to errors when you try to load the pre-trained weights into the initialized model.\n",
    "\n",
    "Let's have a look at the `finetune.yml` config that we prepared for this tutorial (you can find the file in the same directory as this notebook)."
   ]
  },
  {
   "cell_type": "code",
   "execution_count": 17,
   "metadata": {},
   "outputs": [
    {
     "name": "stdout",
     "output_type": "stream",
     "text": [
      "# --- Experiment configurations --------------------------------------------------------------------\n",
      "\n",
      "# experiment name, used as folder name\n",
      "experiment_name: cudalstm_531_basins_finetuned\n",
      "\n",
      "# files to specify training, validation and test basins (relative to code root or absolute path)\n",
      "train_basin_file: finetune_basin.txt\n",
      "validation_basin_file: finetune_basin.txt\n",
      "test_basin_file: finetune_basin.txt\n",
      "\n",
      "# --- Training configuration -----------------------------------------------------------------------\n",
      "\n",
      "# specify learning rates to use starting at specific epochs (0 is the initial learning rate)\n",
      "learning_rate:\n",
      "    0: 5e-4\n",
      "    2: 5e-5\t\n",
      "\n",
      "# Number of training epochs\n",
      "epochs: 10\n",
      "\n",
      "finetune_modules:\n",
      "- head\n",
      "- lstm\n",
      "base_run_dir: /home/frederik/Projects/neuralhydrology/examples/06-Finetuning/runs/cudalstm_531_basins_0901_135400"
     ]
    }
   ],
   "source": [
    "!cat finetune.yml"
   ]
  },
  {
   "cell_type": "markdown",
   "metadata": {},
   "source": [
    "So out of the two arguments that are required, `base_run_dir` is still missing. We will add the argument from here and point at the directory of the model we just trained. Furthermore, we point to a new file for training, validation and testing, called `finetune_basin.txt`, which does not yet exist. We will create this file and add the basin we selected above as the only basin we want to use here. The rest are some changes to the learning rate and the number of training epochs as well as a new name. Also note that here, we train the full model, by selecting all model parts available for the `CudaLSTM` under `finetune_modules`."
   ]
  },
  {
   "cell_type": "code",
   "execution_count": 7,
   "metadata": {},
   "outputs": [],
   "source": [
    "# Add the path to the pre-trained model to the finetune config\n",
    "with open(\"finetune.yml\", \"a\") as fp:\n",
    "    fp.write(f\"\\nbase_run_dir: {run_dir.absolute()}\")\n",
    "    \n",
    "# Create a basin file with the basin we selected above\n",
    "with open(\"finetune_basin.txt\", \"w\") as fp:\n",
    "    fp.write(basin)"
   ]
  },
  {
   "cell_type": "markdown",
   "metadata": {},
   "source": [
    "With that, we are ready to start the finetuning. As mentioned above, we have two options to start finetuning:\n",
    "1. Call the `finetune()` function from a different Python script or a Jupyter Notebook with the path to the config.\n",
    "2. Start the finetuning from the command line by calling\n",
    "\n",
    "```bash\n",
    "nh-run finetune --config-file /path/to/config.yml\n",
    "```\n",
    "\n",
    "Here, we will use the first option."
   ]
  },
  {
   "cell_type": "code",
   "execution_count": 8,
   "metadata": {
    "scrolled": false
   },
   "outputs": [
    {
     "name": "stdout",
     "output_type": "stream",
     "text": [
      "2025-07-23 10:40:15,235: Logging to c:\\Users\\everett\\Documents\\GitHub\\neuralhydrology\\examples\\06-Finetuning\\runs\\cudalstm_531_basins_finetuned_2307_104015\\output.log initialized.\n",
      "2025-07-23 10:40:15,236: ### Folder structure created at c:\\Users\\everett\\Documents\\GitHub\\neuralhydrology\\examples\\06-Finetuning\\runs\\cudalstm_531_basins_finetuned_2307_104015\n",
      "2025-07-23 10:40:15,236: ### Start finetuning with pretrained model stored in c:\\Users\\everett\\Documents\\GitHub\\neuralhydrology\\examples\\06-Finetuning\\runs\\cudalstm_531_basins_2307_092223\n",
      "2025-07-23 10:40:15,237: ### Run configurations for cudalstm_531_basins_finetuned\n",
      "2025-07-23 10:40:15,238: batch_size: 256\n",
      "2025-07-23 10:40:15,238: clip_gradient_norm: 1\n",
      "2025-07-23 10:40:15,239: commit_hash: d99595d\n",
      "2025-07-23 10:40:15,240: data_dir: ..\\..\\data\\CAMELS_US\n",
      "2025-07-23 10:40:15,241: dataset: camels_us\n",
      "2025-07-23 10:40:15,242: device: cuda:0\n",
      "2025-07-23 10:40:15,242: dynamic_inputs: ['prcp(mm/day)', 'srad(W/m2)', 'tmax(C)', 'tmin(C)', 'vp(Pa)']\n",
      "2025-07-23 10:40:15,243: epochs: 10\n",
      "2025-07-23 10:40:15,244: experiment_name: cudalstm_531_basins_finetuned\n",
      "2025-07-23 10:40:15,244: forcings: ['daymet']\n",
      "2025-07-23 10:40:15,245: head: regression\n",
      "2025-07-23 10:40:15,245: hidden_size: 128\n",
      "2025-07-23 10:40:15,246: img_log_dir: c:\\Users\\everett\\Documents\\GitHub\\neuralhydrology\\examples\\06-Finetuning\\runs\\cudalstm_531_basins_finetuned_2307_104015\\img_log\n",
      "2025-07-23 10:40:15,247: initial_forget_bias: 3\n",
      "2025-07-23 10:40:15,249: learning_rate: {0: 0.0005, 2: 5e-05}\n",
      "2025-07-23 10:40:15,249: log_interval: 5\n",
      "2025-07-23 10:40:15,250: log_tensorboard: True\n",
      "2025-07-23 10:40:15,251: loss: NSE\n",
      "2025-07-23 10:40:15,252: metrics: ['NSE']\n",
      "2025-07-23 10:40:15,253: model: cudalstm\n",
      "2025-07-23 10:40:15,253: num_workers: 8\n",
      "2025-07-23 10:40:15,255: number_of_basins: 1\n",
      "2025-07-23 10:40:15,256: optimizer: Adam\n",
      "2025-07-23 10:40:15,257: output_activation: linear\n",
      "2025-07-23 10:40:15,258: output_dropout: 0.4\n",
      "2025-07-23 10:40:15,259: package_version: 1.12.0\n",
      "2025-07-23 10:40:15,259: predict_last_n: 1\n",
      "2025-07-23 10:40:15,261: run_dir: c:\\Users\\everett\\Documents\\GitHub\\neuralhydrology\\examples\\06-Finetuning\\runs\\cudalstm_531_basins_finetuned_2307_104015\n",
      "2025-07-23 10:40:15,261: save_validation_results: True\n",
      "2025-07-23 10:40:15,262: save_weights_every: 1\n",
      "2025-07-23 10:40:15,262: seed: 123\n",
      "2025-07-23 10:40:15,263: seq_length: 365\n",
      "2025-07-23 10:40:15,263: static_attributes: ['elev_mean', 'slope_mean', 'area_gages2', 'frac_forest', 'lai_max', 'lai_diff', 'gvf_max', 'gvf_diff', 'soil_depth_pelletier', 'soil_depth_statsgo', 'soil_porosity', 'soil_conductivity', 'max_water_content', 'sand_frac', 'silt_frac', 'clay_frac', 'carbonate_rocks_frac', 'geol_permeability', 'p_mean', 'pet_mean', 'aridity', 'frac_snow', 'high_prec_freq', 'high_prec_dur', 'low_prec_freq', 'low_prec_dur']\n",
      "2025-07-23 10:40:15,264: target_variables: ['QObs(mm/d)']\n",
      "2025-07-23 10:40:15,264: test_basin_file: finetune_basin.txt\n",
      "2025-07-23 10:40:15,265: test_end_date: 1999-09-30 00:00:00\n",
      "2025-07-23 10:40:15,266: test_start_date: 1989-10-01 00:00:00\n",
      "2025-07-23 10:40:15,267: train_basin_file: finetune_basin.txt\n",
      "2025-07-23 10:40:15,269: train_dir: c:\\Users\\everett\\Documents\\GitHub\\neuralhydrology\\examples\\06-Finetuning\\runs\\cudalstm_531_basins_finetuned_2307_104015\\train_data\n",
      "2025-07-23 10:40:15,270: train_end_date: 2008-09-30 00:00:00\n",
      "2025-07-23 10:40:15,271: train_start_date: 1999-10-01 00:00:00\n",
      "2025-07-23 10:40:15,271: validate_every: 1\n",
      "2025-07-23 10:40:15,272: validate_n_random_basins: 531\n",
      "2025-07-23 10:40:15,272: validation_basin_file: finetune_basin.txt\n",
      "2025-07-23 10:40:15,273: validation_end_date: 1989-09-30 00:00:00\n",
      "2025-07-23 10:40:15,274: validation_start_date: 1980-10-01 00:00:00\n",
      "2025-07-23 10:40:15,274: finetune_modules: ['head', 'lstm']\n",
      "2025-07-23 10:40:15,275: base_run_dir: c:\\Users\\everett\\Documents\\GitHub\\neuralhydrology\\examples\\06-Finetuning\\runs\\cudalstm_531_basins_2307_092223\n",
      "2025-07-23 10:40:15,275: is_finetuning: True\n",
      "2025-07-23 10:40:15,276: is_continue_training: False\n",
      "2025-07-23 10:40:15,288: ### Device cuda:0 will be used for training\n",
      "2025-07-23 10:40:15,379: Loading basin data into xarray data set.\n",
      "100%|██████████| 1/1 [00:00<00:00,  8.80it/s]\n",
      "2025-07-23 10:40:15,499: Calculating target variable stds per basin\n",
      "100%|██████████| 1/1 [00:00<00:00, 494.38it/s]\n",
      "2025-07-23 10:40:15,505: Create lookup table and convert to pytorch tensor\n",
      "100%|██████████| 1/1 [00:00<00:00,  1.02it/s]\n",
      "2025-07-23 10:40:16,509: Starting training from checkpoint c:\\Users\\everett\\Documents\\GitHub\\neuralhydrology\\examples\\06-Finetuning\\runs\\cudalstm_531_basins_2307_092223\\model_epoch003.pt\n"
     ]
    },
    {
     "name": "stderr",
     "output_type": "stream",
     "text": [
      "c:\\Users\\everett\\Documents\\GitHub\\neuralhydrology\\examples\\06-Finetuning\\../..\\neuralhydrology\\training\\basetrainer.py:160: FutureWarning: You are using `torch.load` with `weights_only=False` (the current default value), which uses the default pickle module implicitly. It is possible to construct malicious pickle data which will execute arbitrary code during unpickling (See https://github.com/pytorch/pytorch/blob/main/SECURITY.md#untrusted-models for more details). In a future release, the default value for `weights_only` will be flipped to `True`. This limits the functions that could be executed during unpickling. Arbitrary objects will no longer be allowed to be loaded via this mode unless they are explicitly allowlisted by the user via `torch.serialization.add_safe_globals`. We recommend you start setting `weights_only=True` for any use case where you don't have full control of the loaded file. Please open an issue on GitHub for any issues related to this experimental feature.\n",
      "  self.model.load_state_dict(torch.load(str(checkpoint_path), map_location=self.device))\n"
     ]
    },
    {
     "name": "stdout",
     "output_type": "stream",
     "text": [
      "# Epoch 1: 100%|██████████| 13/13 [00:34<00:00,  2.66s/it, Loss: 0.0208]\n",
      "2025-07-23 10:40:51,358: Epoch 1 average loss: avg_loss: 0.03284, avg_total_loss: 0.03284\n",
      "# Validation: 100%|██████████| 1/1 [00:00<00:00,  1.52it/s]\n",
      "2025-07-23 10:40:52,066: Stored metrics at c:\\Users\\everett\\Documents\\GitHub\\neuralhydrology\\examples\\06-Finetuning\\runs\\cudalstm_531_basins_finetuned_2307_104015\\validation\\model_epoch001\\validation_metrics.csv\n",
      "2025-07-23 10:40:52,068: Stored results at c:\\Users\\everett\\Documents\\GitHub\\neuralhydrology\\examples\\06-Finetuning\\runs\\cudalstm_531_basins_finetuned_2307_104015\\validation\\model_epoch001\\validation_results.p\n",
      "2025-07-23 10:40:52,069: Epoch 1 average validation loss: 0.03681 -- Median validation metrics: avg_loss: 0.03681, NSE: 0.52369\n",
      "2025-07-23 10:40:52,086: Setting learning rate to 5e-05\n",
      "# Epoch 2: 100%|██████████| 13/13 [00:32<00:00,  2.47s/it, Loss: 0.0078]\n",
      "2025-07-23 10:41:24,241: Epoch 2 average loss: avg_loss: 0.03071, avg_total_loss: 0.03071\n",
      "# Validation: 100%|██████████| 1/1 [00:00<00:00,  2.26it/s]\n",
      "2025-07-23 10:41:24,697: Stored metrics at c:\\Users\\everett\\Documents\\GitHub\\neuralhydrology\\examples\\06-Finetuning\\runs\\cudalstm_531_basins_finetuned_2307_104015\\validation\\model_epoch002\\validation_metrics.csv\n",
      "2025-07-23 10:41:24,699: Stored results at c:\\Users\\everett\\Documents\\GitHub\\neuralhydrology\\examples\\06-Finetuning\\runs\\cudalstm_531_basins_finetuned_2307_104015\\validation\\model_epoch002\\validation_results.p\n",
      "2025-07-23 10:41:24,701: Epoch 2 average validation loss: 0.03706 -- Median validation metrics: avg_loss: 0.03706, NSE: 0.52076\n",
      "# Epoch 3: 100%|██████████| 13/13 [00:34<00:00,  2.62s/it, Loss: 0.0085]\n",
      "2025-07-23 10:41:58,802: Epoch 3 average loss: avg_loss: 0.03023, avg_total_loss: 0.03023\n",
      "# Validation: 100%|██████████| 1/1 [00:00<00:00,  2.02it/s]\n",
      "2025-07-23 10:41:59,310: Stored metrics at c:\\Users\\everett\\Documents\\GitHub\\neuralhydrology\\examples\\06-Finetuning\\runs\\cudalstm_531_basins_finetuned_2307_104015\\validation\\model_epoch003\\validation_metrics.csv\n",
      "2025-07-23 10:41:59,311: Stored results at c:\\Users\\everett\\Documents\\GitHub\\neuralhydrology\\examples\\06-Finetuning\\runs\\cudalstm_531_basins_finetuned_2307_104015\\validation\\model_epoch003\\validation_results.p\n",
      "2025-07-23 10:41:59,312: Epoch 3 average validation loss: 0.03738 -- Median validation metrics: avg_loss: 0.03738, NSE: 0.51684\n",
      "# Epoch 4: 100%|██████████| 13/13 [00:33<00:00,  2.59s/it, Loss: 0.0226]\n",
      "2025-07-23 10:42:32,955: Epoch 4 average loss: avg_loss: 0.02971, avg_total_loss: 0.02971\n",
      "# Validation: 100%|██████████| 1/1 [00:00<00:00,  2.23it/s]\n",
      "2025-07-23 10:42:33,727: Stored metrics at c:\\Users\\everett\\Documents\\GitHub\\neuralhydrology\\examples\\06-Finetuning\\runs\\cudalstm_531_basins_finetuned_2307_104015\\validation\\model_epoch004\\validation_metrics.csv\n",
      "2025-07-23 10:42:33,730: Stored results at c:\\Users\\everett\\Documents\\GitHub\\neuralhydrology\\examples\\06-Finetuning\\runs\\cudalstm_531_basins_finetuned_2307_104015\\validation\\model_epoch004\\validation_results.p\n",
      "2025-07-23 10:42:33,731: Epoch 4 average validation loss: 0.03730 -- Median validation metrics: avg_loss: 0.03730, NSE: 0.51799\n",
      "# Epoch 5: 100%|██████████| 13/13 [00:31<00:00,  2.43s/it, Loss: 0.0203]\n",
      "2025-07-23 10:43:05,285: Epoch 5 average loss: avg_loss: 0.02893, avg_total_loss: 0.02893\n",
      "# Validation: 100%|██████████| 1/1 [00:00<00:00,  2.32it/s]\n",
      "2025-07-23 10:43:05,730: Stored metrics at c:\\Users\\everett\\Documents\\GitHub\\neuralhydrology\\examples\\06-Finetuning\\runs\\cudalstm_531_basins_finetuned_2307_104015\\validation\\model_epoch005\\validation_metrics.csv\n",
      "2025-07-23 10:43:05,733: Stored results at c:\\Users\\everett\\Documents\\GitHub\\neuralhydrology\\examples\\06-Finetuning\\runs\\cudalstm_531_basins_finetuned_2307_104015\\validation\\model_epoch005\\validation_results.p\n",
      "2025-07-23 10:43:05,734: Epoch 5 average validation loss: 0.03693 -- Median validation metrics: avg_loss: 0.03693, NSE: 0.52273\n",
      "# Epoch 6: 100%|██████████| 13/13 [00:30<00:00,  2.35s/it, Loss: 0.0166]\n",
      "2025-07-23 10:43:36,319: Epoch 6 average loss: avg_loss: 0.02849, avg_total_loss: 0.02849\n",
      "# Validation: 100%|██████████| 1/1 [00:00<00:00,  2.42it/s]\n",
      "2025-07-23 10:43:36,745: Stored metrics at c:\\Users\\everett\\Documents\\GitHub\\neuralhydrology\\examples\\06-Finetuning\\runs\\cudalstm_531_basins_finetuned_2307_104015\\validation\\model_epoch006\\validation_metrics.csv\n",
      "2025-07-23 10:43:36,747: Stored results at c:\\Users\\everett\\Documents\\GitHub\\neuralhydrology\\examples\\06-Finetuning\\runs\\cudalstm_531_basins_finetuned_2307_104015\\validation\\model_epoch006\\validation_results.p\n",
      "2025-07-23 10:43:36,748: Epoch 6 average validation loss: 0.03651 -- Median validation metrics: avg_loss: 0.03651, NSE: 0.52814\n",
      "# Epoch 7: 100%|██████████| 13/13 [00:29<00:00,  2.24s/it, Loss: 0.0108]\n",
      "2025-07-23 10:44:05,835: Epoch 7 average loss: avg_loss: 0.02874, avg_total_loss: 0.02874\n",
      "# Validation: 100%|██████████| 1/1 [00:00<00:00,  2.35it/s]\n",
      "2025-07-23 10:44:06,274: Stored metrics at c:\\Users\\everett\\Documents\\GitHub\\neuralhydrology\\examples\\06-Finetuning\\runs\\cudalstm_531_basins_finetuned_2307_104015\\validation\\model_epoch007\\validation_metrics.csv\n",
      "2025-07-23 10:44:06,276: Stored results at c:\\Users\\everett\\Documents\\GitHub\\neuralhydrology\\examples\\06-Finetuning\\runs\\cudalstm_531_basins_finetuned_2307_104015\\validation\\model_epoch007\\validation_results.p\n",
      "2025-07-23 10:44:06,278: Epoch 7 average validation loss: 0.03599 -- Median validation metrics: avg_loss: 0.03599, NSE: 0.53486\n",
      "# Epoch 8: 100%|██████████| 13/13 [00:29<00:00,  2.25s/it, Loss: 0.0168]\n",
      "2025-07-23 10:44:35,577: Epoch 8 average loss: avg_loss: 0.02929, avg_total_loss: 0.02929\n",
      "# Validation: 100%|██████████| 1/1 [00:00<00:00,  2.34it/s]\n",
      "2025-07-23 10:44:36,017: Stored metrics at c:\\Users\\everett\\Documents\\GitHub\\neuralhydrology\\examples\\06-Finetuning\\runs\\cudalstm_531_basins_finetuned_2307_104015\\validation\\model_epoch008\\validation_metrics.csv\n",
      "2025-07-23 10:44:36,019: Stored results at c:\\Users\\everett\\Documents\\GitHub\\neuralhydrology\\examples\\06-Finetuning\\runs\\cudalstm_531_basins_finetuned_2307_104015\\validation\\model_epoch008\\validation_results.p\n",
      "2025-07-23 10:44:36,020: Epoch 8 average validation loss: 0.03607 -- Median validation metrics: avg_loss: 0.03607, NSE: 0.53400\n",
      "# Epoch 9: 100%|██████████| 13/13 [00:29<00:00,  2.30s/it, Loss: 0.0270]\n",
      "2025-07-23 10:45:05,906: Epoch 9 average loss: avg_loss: 0.02933, avg_total_loss: 0.02933\n",
      "# Validation: 100%|██████████| 1/1 [00:00<00:00,  2.51it/s]\n",
      "2025-07-23 10:45:06,316: Stored metrics at c:\\Users\\everett\\Documents\\GitHub\\neuralhydrology\\examples\\06-Finetuning\\runs\\cudalstm_531_basins_finetuned_2307_104015\\validation\\model_epoch009\\validation_metrics.csv\n",
      "2025-07-23 10:45:06,318: Stored results at c:\\Users\\everett\\Documents\\GitHub\\neuralhydrology\\examples\\06-Finetuning\\runs\\cudalstm_531_basins_finetuned_2307_104015\\validation\\model_epoch009\\validation_results.p\n",
      "2025-07-23 10:45:06,319: Epoch 9 average validation loss: 0.03593 -- Median validation metrics: avg_loss: 0.03593, NSE: 0.53582\n",
      "# Epoch 10: 100%|██████████| 13/13 [00:29<00:00,  2.28s/it, Loss: 0.0382]\n",
      "2025-07-23 10:45:35,944: Epoch 10 average loss: avg_loss: 0.02866, avg_total_loss: 0.02866\n",
      "# Validation: 100%|██████████| 1/1 [00:00<00:00,  2.32it/s]\n",
      "2025-07-23 10:45:36,402: Stored metrics at c:\\Users\\everett\\Documents\\GitHub\\neuralhydrology\\examples\\06-Finetuning\\runs\\cudalstm_531_basins_finetuned_2307_104015\\validation\\model_epoch010\\validation_metrics.csv\n",
      "2025-07-23 10:45:36,404: Stored results at c:\\Users\\everett\\Documents\\GitHub\\neuralhydrology\\examples\\06-Finetuning\\runs\\cudalstm_531_basins_finetuned_2307_104015\\validation\\model_epoch010\\validation_results.p\n",
      "2025-07-23 10:45:36,405: Epoch 10 average validation loss: 0.03564 -- Median validation metrics: avg_loss: 0.03564, NSE: 0.53946\n"
     ]
    }
   ],
   "source": [
    "finetune(Path(\"finetune.yml\"))"
   ]
  },
  {
   "cell_type": "markdown",
   "metadata": {},
   "source": [
    "Looking at the validation result, we can see an increase of roughly 0.05 NSE.\n",
    "\n",
    "Last but not least, we will compare the pre-trained and the finetuned model on the test period. For this, we will make use of the `eval_run` function from `neuralhydrolgy.nh_run`. Alternatively, you could evaluate both runs from the command line by calling\n",
    "\n",
    "```bash\n",
    "nh-run evaluate --run-dir /path/to/run_directory/\n",
    "```"
   ]
  },
  {
   "cell_type": "code",
   "execution_count": 20,
   "metadata": {},
   "outputs": [
    {
     "name": "stdout",
     "output_type": "stream",
     "text": [
      "2022-01-09 14:16:09,586: Using the model weights from runs/cudalstm_531_basins_0901_135400/model_epoch003.pt\n",
      "# Evaluation: 100%|██████████| 531/531 [02:09<00:00,  4.11it/s]\n",
      "2022-01-09 14:18:18,959: Stored results at runs/cudalstm_531_basins_0901_135400/test/model_epoch003/test_results.p\n"
     ]
    }
   ],
   "source": [
    "eval_run(run_dir, period=\"test\")"
   ]
  },
  {
   "cell_type": "markdown",
   "metadata": {},
   "source": [
    "Now we can call the `eval_run()` function as above, but pointing to the directory of the finetuned run. By default, this function evaluates the last checkpoint, which can be changed with the `epoch` argument. Here however, we use the default. Again, if you want to run this notebook locally, make sure to adapt the folder name of the finetune run."
   ]
  },
  {
   "cell_type": "code",
   "execution_count": null,
   "metadata": {},
   "outputs": [
    {
     "name": "stdout",
     "output_type": "stream",
     "text": [
      "2022-01-09 14:19:06,488: Using the model weights from runs/cudalstm_531_basins_finetuned_0901_141548/model_epoch010.pt\n",
      "# Evaluation: 100%|██████████| 1/1 [00:00<00:00,  4.27it/s]\n",
      "2022-01-09 14:19:06,726: Stored results at runs/cudalstm_531_basins_finetuned_0901_141548/test/model_epoch010/test_results.p\n"
     ]
    }
   ],
   "source": [
    "finetune_dir = Path(\"runs/cudalstm_531_basins_finetuned_0901_141548\")\n",
    "eval_run(finetune_dir, period=\"test\")"
   ]
  },
  {
   "cell_type": "markdown",
   "metadata": {},
   "source": [
    "Now let's look at the test period results of the pre-trained base model and the finetuned model for the basin that we chose above."
   ]
  },
  {
   "cell_type": "code",
   "execution_count": 24,
   "metadata": {},
   "outputs": [
    {
     "name": "stdout",
     "output_type": "stream",
     "text": [
      "Basin 02112360 base model performance: 0.303\n",
      "Performance after finetuning: 0.580\n"
     ]
    }
   ],
   "source": [
    "# load test results of the base run\n",
    "df_pretrained = pd.read_csv(run_dir / \"test/model_epoch003/test_metrics.csv\", dtype={'basin': str})\n",
    "df_pretrained = df_pretrained.set_index(\"basin\")\n",
    "    \n",
    "# load test results of the finetuned model\n",
    "df_finetuned = pd.read_csv(finetune_dir / \"test/model_epoch010/test_metrics.csv\", dtype={'basin': str})\n",
    "df_finetuned = df_finetuned.set_index(\"basin\")\n",
    "    \n",
    "# extract basin performance\n",
    "base_model_nse = df_pretrained.loc[df_pretrained.index == basin, \"NSE\"].values[0]\n",
    "finetune_nse = df_finetuned.loc[df_finetuned.index == basin, \"NSE\"].values[0]\n",
    "print(f\"Basin {basin} base model performance: {base_model_nse:.3f}\")\n",
    "print(f\"Performance after finetuning: {finetune_nse:.3f}\")"
   ]
  },
  {
   "cell_type": "markdown",
   "metadata": {},
   "source": [
    "So we see roughly the same performance increase in the test period (slightly higher), which is great. However, note that a) our base model was not optimally trained (we stopped quite early) but also b) the finetuning settings were chosen rather randomly. From our experience so far, you can almost always get performance increases for individual basins with finetuning, but it is difficult to find settings that are universally applicable. However, this tutorial was just a showcase of how easy it actually is to finetune models with the NeuralHydrology library. Now it is up to you to experiment with it."
   ]
  }
 ],
 "metadata": {
  "kernelspec": {
   "display_name": "Python 3",
   "language": "python",
   "name": "python3"
  },
  "language_info": {
   "codemirror_mode": {
    "name": "ipython",
    "version": 3
   },
   "file_extension": ".py",
   "mimetype": "text/x-python",
   "name": "python",
   "nbconvert_exporter": "python",
   "pygments_lexer": "ipython3",
   "version": "3.10.15"
  }
 },
 "nbformat": 4,
 "nbformat_minor": 4
}
