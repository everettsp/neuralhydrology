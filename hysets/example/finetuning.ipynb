{
 "cells": [
  {
   "cell_type": "markdown",
   "metadata": {},
   "source": [
    "# How-to Finetune\n",
    "\n",
    "**Before we start**\n",
    "\n",
    "- This tutorial is rendered from a Jupyter notebook that is hosted on GitHub. If you want to run the code yourself, you can find the notebook and configuration files [here](https://github.com/neuralhydrology/neuralhydrology/tree/master/examples/06-Finetuning).\n",
    "- To be able to run this notebook locally, you need to download the publicly available CAMELS US rainfall-runoff dataset and a publicly available extensions for hourly forcing and streamflow data. See the [Data Prerequisites Tutorial](data-prerequisites.nblink) for a detailed description on where to download the data and how to structure your local dataset folder. Note the special [section](data-prerequisites.nblink#CAMELS-US-catchment-attributes) with additional requirements for this tutorial.\n",
    "\n",
    "This tutorial shows how to adapt a pretrained model to a different, eventually much smaller dataset, a concept called finetuning. Finetuning is well-established in machine learning and thus nothing new. Generally speaking, the idea is to use a (very) large and diverse dataset to learn a general understanding of the underlying problem first and then, in a second step, adapt this general model to the target data. Usually, especially if the available target data is limited, pretraining plus finetuning yields (much) better results than only considering the final target data. \n",
    "\n",
    "The connection to hydrology is the following: Often, researchers or operators are only interested in a single basin. However, considering that a Deep Learning (DL) model has to learn all (physical) process understanding from the available training data, it might be understandable that the data records of a single basin might not be enough (see e.g. the presentation linked at [this](https://meetingorganizer.copernicus.org/EGU2020/EGU2020-8855.html) EGU'20 abstract)\n",
    "\n",
    "This is were we apply the concept of pretraining and finetuning: First, we train a DL model (e.g. an LSTM) with a large and diverse, multi-basin dataset (e.g. CAMELS) and then finetune this model to our basin of interest. Everything you need is available in the NeuralHydrology package and in this notebook we will give you an overview of how to actually do it.\n",
    "\n",
    "**Note**: Finetuning can be a tedious task and is usually very sensitive to the learning rate as well as the number of epochs used for finetuning. One reason is that the pretrained models are usually quite large. In fact, most often they are much larger than what would be possible to train for just a single basin. So during finetuning, we have to make sure that this large capacity is not negatively impacting our model results. Common approaches are to a) only allow parts of the model to be adapted during finetuning and/or b) to train with a much lower learning rate. So far, no publication was published that presents a universally working approach for finetuning in hydrology. So be aware that the results may vary and you might need to invest some time before finding a good strategy. However, in our experience it was always possible to get better results _with_ finetuning than without.\n",
    "\n",
    "**To summarize**: If you are interested in getting the best-performing Deep Learning model for a single basin, pretraining on a large and diverse dataset, followed by finetuning the pretrained model on your target basin is the way to go."
   ]
  },
  {
   "cell_type": "code",
   "execution_count": 1,
   "metadata": {},
   "outputs": [],
   "source": [
    "# Imports\n",
    "from pathlib import Path\n",
    "import pandas as pd\n",
    "import torch\n",
    "import sys\n",
    "sys.path.append(r\"C:\\Users\\everett\\Documents\\GitHub\\neuralhydrology\\neuralhydrology\")\n",
    "\n",
    "from neuralhydrology.nh_run import start_run, eval_run, finetune"
   ]
  },
  {
   "cell_type": "markdown",
   "metadata": {},
   "source": [
    "## Pretraining\n",
    "\n",
    "In the first step, we need to pretrain our model on a large and possibly diverse dataset. Our target basin does not necessarily have to be a part of this dataset, but usually it should be better to include it.\n",
    "\n",
    "For the sake of the demonstration, we will train an LSTM on the CAMELS US dataset and then finetune this model to a random basin. Note that it is possible to use other inputs during pretraining and finetuning, if additional embedding layers (before the LSTM) are used, which we will ignore for now. Furthermore, we will concentrate only on demonstrating the \"how-to\" rather than striving for best-possible performance. To save time and energy, we will only pretrain the model for a small number of epochs. When striving for the best possible performance, you should make sure that you pretrain the model as best as possible, before starting to finetune.\n",
    "\n",
    "We will stick closely to the model and experimental setup from [Kratzert et al. (2019)](https://hess.copernicus.org/articles/23/5089/2019/hess-23-5089-2019.html). To summarize:\n",
    "- A single LSTM layer with a hidden size of 128.\n",
    "- Input sequences are 365 days and the prediction is made at the last timestep.\n",
    "- We will use the same CAMELS attributes, as in the publication mentioned above, as additional inputs at every time step so that the model can learn different hydrological behaviors depending on the catchment properties.\n",
    "\n",
    "For more details, take a look at the config print-out below.\n",
    "\n",
    "**Note**\n",
    "- The config file assumes that the CAMELS US dataset is stored under `data/CAMELS_US` (relative to the main directory of this repository) or a symbolic link exists at this location. Make sure that this folder contains the required subdirectories `basin_mean_forcing`, `usgs_streamflow` and `camels_attributes_v2.0`. If your data is stored at a different location and you can't or don't want to create a symbolic link, you will need to change the `data_dir` argument in the `531_basins.yml` config file that is located in the same directory as this notebook.\n",
    "- By default, the config (`531_basins.yml`) assumes that you have a CUDA-capable NVIDIA GPU (see config argument `device`). In case you don't have any or you have one but want to train on the CPU, you can either change the config argument to `device: cpu` or pass `gpu=-1` to the `start_run()` function. Please note that training such a model on such a large dataset on CPU takes a very long time. "
   ]
  },
  {
   "cell_type": "code",
   "execution_count": 5,
   "metadata": {},
   "outputs": [
    {
     "name": "stdout",
     "output_type": "stream",
     "text": [
      "2023-01-24 12:16:06,965: Logging to c:\\Users\\everett\\Documents\\GitHub\\neuralhydrology\\neuralhydrology\\examples\\10-Hysets\\runs\\cudalstm_hysets_limited_2401_121606\\output.log initialized.\n",
      "2023-01-24 12:16:06,966: ### Folder structure created at c:\\Users\\everett\\Documents\\GitHub\\neuralhydrology\\neuralhydrology\\examples\\10-Hysets\\runs\\cudalstm_hysets_limited_2401_121606\n",
      "2023-01-24 12:16:06,968: ### Run configurations for cudalstm_hysets_limited\n",
      "2023-01-24 12:16:06,968: experiment_name: cudalstm_hysets_limited\n",
      "2023-01-24 12:16:06,968: run_dir: c:\\Users\\everett\\Documents\\GitHub\\neuralhydrology\\neuralhydrology\\examples\\10-Hysets\\runs\\cudalstm_hysets_limited_2401_121606\n",
      "2023-01-24 12:16:06,969: train_basin_file: hysets_basin_list.txt\n",
      "2023-01-24 12:16:06,971: validation_basin_file: hysets_basin_list.txt\n",
      "2023-01-24 12:16:06,971: test_basin_file: hysets_basin_list.txt\n",
      "2023-01-24 12:16:06,972: train_start_date: 2006-10-01 00:00:00\n",
      "2023-01-24 12:16:06,972: train_end_date: 2018-09-30 00:00:00\n",
      "2023-01-24 12:16:06,973: validation_start_date: 1982-10-01 00:00:00\n",
      "2023-01-24 12:16:06,973: validation_end_date: 1994-09-30 00:00:00\n",
      "2023-01-24 12:16:06,973: test_start_date: 1994-10-01 00:00:00\n",
      "2023-01-24 12:16:06,974: test_end_date: 2006-09-30 00:00:00\n",
      "2023-01-24 12:16:06,974: seed: 123\n",
      "2023-01-24 12:16:06,975: device: cpu\n",
      "2023-01-24 12:16:06,975: validate_every: 1\n",
      "2023-01-24 12:16:06,975: validate_n_random_basins: 2\n",
      "2023-01-24 12:16:06,976: metrics: ['NSE']\n",
      "2023-01-24 12:16:06,976: model: cudalstm\n",
      "2023-01-24 12:16:06,976: head: regression\n",
      "2023-01-24 12:16:06,977: hidden_size: 128\n",
      "2023-01-24 12:16:06,977: initial_forget_bias: 3\n",
      "2023-01-24 12:16:06,978: output_dropout: 0.4\n",
      "2023-01-24 12:16:06,978: output_activation: linear\n",
      "2023-01-24 12:16:06,978: optimizer: Adam\n",
      "2023-01-24 12:16:06,979: loss: NSE\n",
      "2023-01-24 12:16:06,979: learning_rate: {0: 0.001, 1: 0.0005}\n",
      "2023-01-24 12:16:06,979: batch_size: 256\n",
      "2023-01-24 12:16:06,980: epochs: 3\n",
      "2023-01-24 12:16:06,980: clip_gradient_norm: 1\n",
      "2023-01-24 12:16:06,980: predict_last_n: 1\n",
      "2023-01-24 12:16:06,981: seq_length: 365\n",
      "2023-01-24 12:16:06,981: num_workers: 8\n",
      "2023-01-24 12:16:06,982: log_interval: 5\n",
      "2023-01-24 12:16:06,982: log_tensorboard: True\n",
      "2023-01-24 12:16:06,983: save_weights_every: 1\n",
      "2023-01-24 12:16:06,984: save_validation_results: True\n",
      "2023-01-24 12:16:06,984: dataset: hysets\n",
      "2023-01-24 12:16:06,985: data_dir: ..\\..\\data\\hysets\n",
      "2023-01-24 12:16:06,985: dynamic_inputs: ['precip(mm/d)', 'tmax(C)', 'tmin(C)', 'swe(mm/d)']\n",
      "2023-01-24 12:16:06,986: target_variables: ['q(mm/d)']\n",
      "2023-01-24 12:16:06,986: clip_targets_to_zero: ['q(mm/d)']\n",
      "2023-01-24 12:16:06,986: static_attributes: ['Elevation_m', 'Slope_deg', 'Land_Use_Forest_frac', 'Land_Use_Grass_frac', 'Land_Use_Wetland_frac', 'Land_Use_Water_frac', 'Land_Use_Urban_frac', 'Land_Use_Shrubs_frac', 'Land_Use_Crops_frac', 'precip_mean(mm/d)', 'precip_high(mm/d)', 'precip_mean(mm/mo)', 'precip_mean(mm/y)', 'precip_high_freq(d/yr)', 'precip_high_dur(d)', 'precip_low_freq(d/yr)', 'precip_low_dur(d)', 'baseflow_index(-)', 'q_mean(mm/d)', 'q_high(mm/d)', 'q_low(mm/d)', 'q_high_freq(d/yr)', 'q_high_dur(d)', 'q_low_dur(d)', 'q_95', 'q_5', 'runoff_ratio', 'q_adf(-)', 'q_adf_p(-)', 'q_adf_cv1(-)', 'q_adf_cv5(-)', 'q_adf_cv10(-)', 'q_seasonality(-)', 'tmean_seasonality(-)', 'tmean_alltime(C)', 'tmax_annual_mean(C)', 'tmin_annual_mean(C)']\n",
      "2023-01-24 12:16:06,987: number_of_basins: 2\n",
      "2023-01-24 12:16:06,987: train_dir: c:\\Users\\everett\\Documents\\GitHub\\neuralhydrology\\neuralhydrology\\examples\\10-Hysets\\runs\\cudalstm_hysets_limited_2401_121606\\train_data\n",
      "2023-01-24 12:16:06,988: img_log_dir: c:\\Users\\everett\\Documents\\GitHub\\neuralhydrology\\neuralhydrology\\examples\\10-Hysets\\runs\\cudalstm_hysets_limited_2401_121606\\img_log\n",
      "2023-01-24 12:16:06,995: ### Device cpu will be used for training\n",
      "hysets\n",
      "2023-01-24 12:16:07,006: Loading basin data into xarray data set.\n",
      "100%|██████████| 2/2 [00:02<00:00,  1.19s/it]\n",
      "2023-01-24 12:16:09,402: Calculating target variable stds per basin\n",
      "100%|██████████| 2/2 [00:00<00:00, 666.71it/s]\n",
      "2023-01-24 12:16:09,410: Create lookup table and convert to pytorch tensor\n"
     ]
    },
    {
     "name": "stderr",
     "output_type": "stream",
     "text": [
      "C:\\Users\\everett\\Documents\\GitHub\\neuralhydrology\\neuralhydrology\\neuralhydrology\\datasetzoo\\basedataset.py:460: UserWarning: Creating a tensor from a list of numpy.ndarrays is extremely slow. Please consider converting the list to a single numpy.ndarray with numpy.array() before converting to a tensor. (Triggered internally at C:\\cb\\pytorch_1000000000000\\work\\torch\\csrc\\utils\\tensor_new.cpp:233.)\n",
      "  per_basin_target_stds = torch.tensor([np.nanstd(obs, axis=1)], dtype=torch.float32)\n"
     ]
    },
    {
     "name": "stdout",
     "output_type": "stream",
     "text": [
      "100%|██████████| 2/2 [00:01<00:00,  1.45it/s]\n",
      "2023-01-24 12:16:10,927: Setting learning rate to 0.0005\n",
      "# Epoch 1: 100%|██████████| 33/33 [01:17<00:00,  2.34s/it, Loss: 0.1516]\n",
      "2023-01-24 12:17:28,081: Epoch 1 average loss: 0.09095768472461989\n",
      "# Validation:   0%|          | 0/2 [00:00<?, ?it/s]hysets\n",
      "# Validation:  50%|█████     | 1/2 [00:12<00:12, 12.89s/it]hysets\n",
      "# Validation: 100%|██████████| 2/2 [00:25<00:00, 12.86s/it]\n",
      "2023-01-24 12:17:53,813: Stored results at c:\\Users\\everett\\Documents\\GitHub\\neuralhydrology\\neuralhydrology\\examples\\10-Hysets\\runs\\cudalstm_hysets_limited_2401_121606\\validation\\model_epoch001\\validation_results.p\n",
      "2023-01-24 12:17:53,814: Epoch 1 average validation loss: 0.06621 -- Median validation metrics: NSE: 0.29844\n",
      "# Epoch 2: 100%|██████████| 33/33 [01:17<00:00,  2.35s/it, Loss: 0.0215]\n",
      "2023-01-24 12:19:11,333: Epoch 2 average loss: 0.07265197079290044\n",
      "# Validation: 100%|██████████| 2/2 [00:23<00:00, 11.53s/it]\n",
      "2023-01-24 12:19:34,405: Stored results at c:\\Users\\everett\\Documents\\GitHub\\neuralhydrology\\neuralhydrology\\examples\\10-Hysets\\runs\\cudalstm_hysets_limited_2401_121606\\validation\\model_epoch002\\validation_results.p\n",
      "2023-01-24 12:19:34,406: Epoch 2 average validation loss: 0.06175 -- Median validation metrics: NSE: 0.34477\n",
      "# Epoch 3: 100%|██████████| 33/33 [01:18<00:00,  2.36s/it, Loss: 0.1093]\n",
      "2023-01-24 12:20:52,467: Epoch 3 average loss: 0.07055204993847644\n",
      "# Validation: 100%|██████████| 2/2 [00:22<00:00, 11.50s/it]\n",
      "2023-01-24 12:21:15,483: Stored results at c:\\Users\\everett\\Documents\\GitHub\\neuralhydrology\\neuralhydrology\\examples\\10-Hysets\\runs\\cudalstm_hysets_limited_2401_121606\\validation\\model_epoch003\\validation_results.p\n",
      "2023-01-24 12:21:15,484: Epoch 3 average validation loss: 0.05130 -- Median validation metrics: NSE: 0.45553\n"
     ]
    }
   ],
   "source": [
    "# by default we assume that you have at least one CUDA-capable NVIDIA GPU\n",
    "if torch.cuda.is_available():\n",
    "    start_run(config_file=Path(\"hysets.yml\"))\n",
    "\n",
    "# fall back to CPU-only mode\n",
    "else:\n",
    "    start_run(config_file=Path(\"hysets.yml\"), gpu=-1)"
   ]
  },
  {
   "cell_type": "markdown",
   "metadata": {},
   "source": [
    "We end with an okay'ish model that should be enough for the purpose of this demonstration. Remember we only train for a limited number of epochs here.\n",
    "\n",
    "Next, we'll load the validation results into memory so we can select a basin to demonstrate how to finetune based on the model performance. \n",
    "Since the folder name is created dynamically (including the date and time of the start of the run) you will need to change the `run_dir` argument according to your local directory name. \n",
    "\n",
    "Here, we will select a random basin from the lower 50% of the NSE distribution, i.e. a basin where the NSE is below the median NSE. Usually, you'll see better performance gains for basins with lower model performance than for those where the base model is already really good."
   ]
  },
  {
   "cell_type": "code",
   "execution_count": 2,
   "metadata": {},
   "outputs": [
    {
     "name": "stdout",
     "output_type": "stream",
     "text": [
      "Median NSE of the validation period 0.456\n",
      "Selected basin: 9 with an NSE of 0.385\n"
     ]
    }
   ],
   "source": [
    "# Load validation results from the last epoch\n",
    "run_dir = Path(\"runs/cudalstm_hysets_limited_2401_121606/\")\n",
    "df = pd.read_csv(run_dir / \"validation\" / \"model_epoch003\" / \"validation_metrics.csv\", dtype={'basin': str})\n",
    "df = df.set_index('basin')\n",
    "\n",
    "# Compute the median NSE from all basins, where discharge observations are available for that period\n",
    "print(f\"Median NSE of the validation period {df['NSE'].median():.3f}\")\n",
    "\n",
    "# Select a random basins from the lower 50% of the NSE distribution\n",
    "basin = df.loc[df[\"NSE\"] < df[\"NSE\"].median()].sample(n=1).index[0]\n",
    "\n",
    "print(f\"Selected basin: {basin} with an NSE of {df.loc[df.index == basin, 'NSE'].values[0]:.3f}\")"
   ]
  },
  {
   "cell_type": "markdown",
   "metadata": {},
   "source": [
    "## Finetuning\n",
    "\n",
    "Next, we will show how to perform finetuning for the basin selected above, based on the model we just trained. The function to use is `finetune` from `neuralhydrology.nh_run` if you want to train from within a script or notebook. If you want to start finetuning from the command line, you can also call the `nh-run` utility with the `finetune` argument, instead of e.g. `train` or `evaluate`.\n",
    "\n",
    "The only thing required, similar to the model training itself, is a config file. This config however has slightly different requirements to a normal model config and works slightly different:\n",
    "- The config has to contain the following two arguments:\n",
    "    - `base_run_dir`: The path to the directory of the pre-trained model.\n",
    "    - `finetune_modules`: Which parts of the pre-trained model you want to finetune. Check the documentation of each model class for a list of all possible parts. Often only parts, e.g. the output layer, are trained during finetuning and the rest is kept fixed. There is no general rule of thumb and most likely you will have to try both.\n",
    "- Any additional argument contained in this config will overwrite the config argument of the pre-trained model. Everything _not_ specified will be taken from the pre-trained model. That is, you can e.g. specify a new basin file in the finetuning config (by `train_basin_file`) to finetune the pre-trained model on a different set of basins, or even just a single basin as we will do in this notebook. You can also change the learning rate, loss function, evaluation metrics and so on. The only thing you can not change are arguments that change the model architecture (e.g. `model`, `hidden_size` etc.), because this leads to errors when you try to load the pre-trained weights into the initialized model.\n",
    "\n",
    "Let's have a look at the `finetune.yml` config that we prepared for this tutorial (you can find the file in the same directory as this notebook)."
   ]
  },
  {
   "cell_type": "code",
   "execution_count": 17,
   "metadata": {},
   "outputs": [
    {
     "name": "stdout",
     "output_type": "stream",
     "text": [
      "# --- Experiment configurations --------------------------------------------------------------------\n",
      "\n",
      "# experiment name, used as folder name\n",
      "experiment_name: cudalstm_531_basins_finetuned\n",
      "\n",
      "# files to specify training, validation and test basins (relative to code root or absolute path)\n",
      "train_basin_file: finetune_basin.txt\n",
      "validation_basin_file: finetune_basin.txt\n",
      "test_basin_file: finetune_basin.txt\n",
      "\n",
      "# --- Training configuration -----------------------------------------------------------------------\n",
      "\n",
      "# specify learning rates to use starting at specific epochs (0 is the initial learning rate)\n",
      "learning_rate:\n",
      "    0: 5e-4\n",
      "    2: 5e-5\t\n",
      "\n",
      "# Number of training epochs\n",
      "epochs: 10\n",
      "\n",
      "finetune_modules:\n",
      "- head\n",
      "- lstm\n",
      "base_run_dir: /home/frederik/Projects/neuralhydrology/examples/06-Finetuning/runs/cudalstm_531_basins_0901_135400"
     ]
    }
   ],
   "source": [
    "!cat finetune.yml"
   ]
  },
  {
   "cell_type": "markdown",
   "metadata": {},
   "source": [
    "So out of the two arguments that are required, `base_run_dir` is still missing. We will add the argument from here and point at the directory of the model we just trained. Furthermore, we point to a new file for training, validation and testing, called `finetune_basin.txt`, which does not yet exist. We will create this file and add the basin we selected above as the only basin we want to use here. The rest are some changes to the learning rate and the number of training epochs as well as a new name. Also note that here, we train the full model, by selecting all model parts available for the `CudaLSTM` under `finetune_modules`."
   ]
  },
  {
   "cell_type": "code",
   "execution_count": 18,
   "metadata": {},
   "outputs": [],
   "source": [
    "# Add the path to the pre-trained model to the finetune config\n",
    "with open(\"finetune.yml\", \"a\") as fp:\n",
    "    fp.write(f\"base_run_dir: {run_dir.absolute()}\")\n",
    "    \n",
    "# Create a basin file with the basin we selected above\n",
    "with open(\"finetune_basin.txt\", \"w\") as fp:\n",
    "    fp.write(basin)"
   ]
  },
  {
   "cell_type": "markdown",
   "metadata": {},
   "source": [
    "With that, we are ready to start the finetuning. As mentioned above, we have two options to start finetuning:\n",
    "1. Call the `finetune()` function from a different Python script or a Jupyter Notebook with the path to the config.\n",
    "2. Start the finetuning from the command line by calling\n",
    "\n",
    "```bash\n",
    "nh-run finetune --config-file /path/to/config.yml\n",
    "```\n",
    "\n",
    "Here, we will use the first option."
   ]
  },
  {
   "cell_type": "code",
   "execution_count": 2,
   "metadata": {
    "scrolled": false
   },
   "outputs": [
    {
     "name": "stdout",
     "output_type": "stream",
     "text": [
      "2023-01-24 12:46:57,129: Logging to c:\\Users\\everett\\Documents\\GitHub\\neuralhydrology\\neuralhydrology\\examples\\10-Hysets\\runs\\cudalstm_531_basins_finetuned_2401_124657\\output.log initialized.\n",
      "2023-01-24 12:46:57,130: ### Folder structure created at c:\\Users\\everett\\Documents\\GitHub\\neuralhydrology\\neuralhydrology\\examples\\10-Hysets\\runs\\cudalstm_531_basins_finetuned_2401_124657\n",
      "2023-01-24 12:46:57,130: ### Start finetuning with pretrained model stored in c:\\Users\\everett\\Documents\\GitHub\\neuralhydrology\\neuralhydrology\\examples\\10-Hysets\\runs\\cudalstm_hysets_limited_2401_121606\n",
      "2023-01-24 12:46:57,131: ### Run configurations for cudalstm_531_basins_finetuned\n",
      "2023-01-24 12:46:57,131: batch_size: 256\n",
      "2023-01-24 12:46:57,131: clip_gradient_norm: 1\n",
      "2023-01-24 12:46:57,132: clip_targets_to_zero: ['q(mm/d)']\n",
      "2023-01-24 12:46:57,132: commit_hash: 4774ca6\n",
      "2023-01-24 12:46:57,133: data_dir: ..\\..\\data\\hysets\n",
      "2023-01-24 12:46:57,133: dataset: hysets\n",
      "2023-01-24 12:46:57,134: device: cpu\n",
      "2023-01-24 12:46:57,134: dynamic_inputs: ['precip(mm/d)', 'tmax(C)', 'tmin(C)', 'swe(mm/d)']\n",
      "2023-01-24 12:46:57,135: epochs: 10\n",
      "2023-01-24 12:46:57,136: experiment_name: cudalstm_531_basins_finetuned\n",
      "2023-01-24 12:46:57,136: head: regression\n",
      "2023-01-24 12:46:57,137: hidden_size: 128\n",
      "2023-01-24 12:46:57,137: img_log_dir: c:\\Users\\everett\\Documents\\GitHub\\neuralhydrology\\neuralhydrology\\examples\\10-Hysets\\runs\\cudalstm_531_basins_finetuned_2401_124657\\img_log\n",
      "2023-01-24 12:46:57,137: initial_forget_bias: 3\n",
      "2023-01-24 12:46:57,138: learning_rate: {0: 0.0005, 2: 5e-05}\n",
      "2023-01-24 12:46:57,138: log_interval: 5\n",
      "2023-01-24 12:46:57,139: log_tensorboard: True\n",
      "2023-01-24 12:46:57,139: loss: NSE\n",
      "2023-01-24 12:46:57,139: metrics: ['NSE']\n",
      "2023-01-24 12:46:57,140: model: cudalstm\n",
      "2023-01-24 12:46:57,140: num_workers: 8\n",
      "2023-01-24 12:46:57,141: number_of_basins: 1\n",
      "2023-01-24 12:46:57,141: optimizer: Adam\n",
      "2023-01-24 12:46:57,141: output_activation: linear\n",
      "2023-01-24 12:46:57,142: output_dropout: 0.4\n",
      "2023-01-24 12:46:57,142: package_version: 1.5.0\n",
      "2023-01-24 12:46:57,142: predict_last_n: 1\n",
      "2023-01-24 12:46:57,143: run_dir: c:\\Users\\everett\\Documents\\GitHub\\neuralhydrology\\neuralhydrology\\examples\\10-Hysets\\runs\\cudalstm_531_basins_finetuned_2401_124657\n",
      "2023-01-24 12:46:57,143: save_validation_results: True\n",
      "2023-01-24 12:46:57,143: save_weights_every: 1\n",
      "2023-01-24 12:46:57,144: seed: 123\n",
      "2023-01-24 12:46:57,144: seq_length: 365\n",
      "2023-01-24 12:46:57,144: static_attributes: ['Elevation_m', 'Slope_deg', 'Land_Use_Forest_frac', 'Land_Use_Grass_frac', 'Land_Use_Wetland_frac', 'Land_Use_Water_frac', 'Land_Use_Urban_frac', 'Land_Use_Shrubs_frac', 'Land_Use_Crops_frac', 'precip_mean(mm/d)', 'precip_high(mm/d)', 'precip_mean(mm/mo)', 'precip_mean(mm/y)', 'precip_high_freq(d/yr)', 'precip_high_dur(d)', 'precip_low_freq(d/yr)', 'precip_low_dur(d)', 'baseflow_index(-)', 'q_mean(mm/d)', 'q_high(mm/d)', 'q_low(mm/d)', 'q_high_freq(d/yr)', 'q_high_dur(d)', 'q_low_dur(d)', 'q_95', 'q_5', 'runoff_ratio', 'q_adf(-)', 'q_adf_p(-)', 'q_adf_cv1(-)', 'q_adf_cv5(-)', 'q_adf_cv10(-)', 'q_seasonality(-)', 'tmean_seasonality(-)', 'tmean_alltime(C)', 'tmax_annual_mean(C)', 'tmin_annual_mean(C)']\n",
      "2023-01-24 12:46:57,145: target_variables: ['q(mm/d)']\n",
      "2023-01-24 12:46:57,145: test_basin_file: finetune_basin.txt\n",
      "2023-01-24 12:46:57,146: test_end_date: 2006-09-30 00:00:00\n",
      "2023-01-24 12:46:57,146: test_start_date: 1994-10-01 00:00:00\n",
      "2023-01-24 12:46:57,146: train_basin_file: finetune_basin.txt\n",
      "2023-01-24 12:46:57,147: train_dir: c:\\Users\\everett\\Documents\\GitHub\\neuralhydrology\\neuralhydrology\\examples\\10-Hysets\\runs\\cudalstm_531_basins_finetuned_2401_124657\\train_data\n",
      "2023-01-24 12:46:57,147: train_end_date: 2018-09-30 00:00:00\n",
      "2023-01-24 12:46:57,148: train_start_date: 2006-10-01 00:00:00\n",
      "2023-01-24 12:46:57,148: validate_every: 1\n",
      "2023-01-24 12:46:57,148: validate_n_random_basins: 2\n",
      "2023-01-24 12:46:57,149: validation_basin_file: finetune_basin.txt\n",
      "2023-01-24 12:46:57,149: validation_end_date: 1994-09-30 00:00:00\n",
      "2023-01-24 12:46:57,149: validation_start_date: 1982-10-01 00:00:00\n",
      "2023-01-24 12:46:57,150: finetune_modules: ['head', 'lstm']\n",
      "2023-01-24 12:46:57,150: base_run_dir: c:\\Users\\everett\\Documents\\GitHub\\neuralhydrology\\neuralhydrology\\examples\\10-Hysets\\runs\\cudalstm_hysets_limited_2401_121606\n",
      "2023-01-24 12:46:57,150: is_finetuning: True\n",
      "2023-01-24 12:46:57,151: is_continue_training: False\n",
      "2023-01-24 12:46:57,160: ### Device cpu will be used for training\n",
      "hysets\n",
      "Index(['1', '2', '3', '4', '5', '6', '7', '8', '9'], dtype='object')\n",
      "['9']\n",
      "  Source                               Name Official_ID  Centroid_Lat_deg_N  \\\n",
      "9  HYDAT  MEDUXNEKEAG RIVER NEAR BELLEVILLE     01AJ003            46.21622   \n",
      "\n",
      "   Centroid_Lon_deg_E  Drainage_Area_km2  Drainage_Area_GSIM_km2  \\\n",
      "9           -67.72794          1206.8273                     NaN   \n",
      "\n",
      "   Flag_GSIM_boundaries  Flag_Artificial_Boundaries  Elevation_m  ...  \\\n",
      "9                     0                           0        182.5  ...   \n",
      "\n",
      "    q_adf(-)  q_adf_p(-)  q_adf_cv1(-)  q_adf_cv5(-)  q_adf_cv10(-)  \\\n",
      "9 -20.518927         0.0     -3.430708     -2.861698      -2.566854   \n",
      "\n",
      "   q_seasonality(-)  tmean_seasonality(-)  tmean_alltime(C)  \\\n",
      "9          0.411704              0.837077          4.750539   \n",
      "\n",
      "   tmax_annual_mean(C)  tmin_annual_mean(C)  \n",
      "9            32.623119           -32.897816  \n",
      "\n",
      "[1 rows x 61 columns]\n"
     ]
    },
    {
     "ename": "RuntimeError",
     "evalue": "The following attributes have a std of zero or NaN, which results in NaN's when normalizing the features. Remove the attributes from the attribute feature list and restart the run. \nAttributes: ['Elevation_m', 'Slope_deg', 'Land_Use_Forest_frac', 'Land_Use_Grass_frac', 'Land_Use_Wetland_frac', 'Land_Use_Water_frac', 'Land_Use_Urban_frac', 'Land_Use_Shrubs_frac', 'Land_Use_Crops_frac', 'precip_mean(mm/d)', 'precip_high(mm/d)', 'precip_mean(mm/mo)', 'precip_mean(mm/y)', 'precip_high_freq(d/yr)', 'precip_high_dur(d)', 'precip_low_freq(d/yr)', 'precip_low_dur(d)', 'baseflow_index(-)', 'q_mean(mm/d)', 'q_high(mm/d)', 'q_low(mm/d)', 'q_high_freq(d/yr)', 'q_high_dur(d)', 'q_low_dur(d)', 'q_95', 'q_5', 'runoff_ratio', 'q_adf(-)', 'q_adf_p(-)', 'q_adf_cv1(-)', 'q_adf_cv5(-)', 'q_adf_cv10(-)', 'q_seasonality(-)', 'tmean_seasonality(-)', 'tmean_alltime(C)', 'tmax_annual_mean(C)', 'tmin_annual_mean(C)']",
     "output_type": "error",
     "traceback": [
      "\u001b[1;31m---------------------------------------------------------------------------\u001b[0m",
      "\u001b[1;31mRuntimeError\u001b[0m                              Traceback (most recent call last)",
      "\u001b[1;32m~\\AppData\\Local\\Temp\\ipykernel_37368\\1347906135.py\u001b[0m in \u001b[0;36m<module>\u001b[1;34m\u001b[0m\n\u001b[1;32m----> 1\u001b[1;33m \u001b[0mfinetune\u001b[0m\u001b[1;33m(\u001b[0m\u001b[0mPath\u001b[0m\u001b[1;33m(\u001b[0m\u001b[1;34m\"hysets_finetune.yml\"\u001b[0m\u001b[1;33m)\u001b[0m\u001b[1;33m)\u001b[0m\u001b[1;33m\u001b[0m\u001b[1;33m\u001b[0m\u001b[0m\n\u001b[0m",
      "\u001b[1;32m~\\Documents\\GitHub\\neuralhydrology\\neuralhydrology\\neuralhydrology\\nh_run.py\u001b[0m in \u001b[0;36mfinetune\u001b[1;34m(config_file, gpu)\u001b[0m\n\u001b[0;32m    141\u001b[0m         \u001b[0mconfig\u001b[0m\u001b[1;33m.\u001b[0m\u001b[0mdevice\u001b[0m \u001b[1;33m=\u001b[0m \u001b[1;34m\"cpu\"\u001b[0m\u001b[1;33m\u001b[0m\u001b[1;33m\u001b[0m\u001b[0m\n\u001b[0;32m    142\u001b[0m \u001b[1;33m\u001b[0m\u001b[0m\n\u001b[1;32m--> 143\u001b[1;33m     \u001b[0mstart_training\u001b[0m\u001b[1;33m(\u001b[0m\u001b[0mconfig\u001b[0m\u001b[1;33m)\u001b[0m\u001b[1;33m\u001b[0m\u001b[1;33m\u001b[0m\u001b[0m\n\u001b[0m\u001b[0;32m    144\u001b[0m \u001b[1;33m\u001b[0m\u001b[0m\n\u001b[0;32m    145\u001b[0m \u001b[1;33m\u001b[0m\u001b[0m\n",
      "\u001b[1;32m~\\Documents\\GitHub\\neuralhydrology\\neuralhydrology\\neuralhydrology\\training\\train.py\u001b[0m in \u001b[0;36mstart_training\u001b[1;34m(cfg)\u001b[0m\n\u001b[0;32m     20\u001b[0m     \u001b[1;32melse\u001b[0m\u001b[1;33m:\u001b[0m\u001b[1;33m\u001b[0m\u001b[1;33m\u001b[0m\u001b[0m\n\u001b[0;32m     21\u001b[0m         \u001b[1;32mraise\u001b[0m \u001b[0mValueError\u001b[0m\u001b[1;33m(\u001b[0m\u001b[1;34mf\"Unknown head {cfg.head}.\"\u001b[0m\u001b[1;33m)\u001b[0m\u001b[1;33m\u001b[0m\u001b[1;33m\u001b[0m\u001b[0m\n\u001b[1;32m---> 22\u001b[1;33m     \u001b[0mtrainer\u001b[0m\u001b[1;33m.\u001b[0m\u001b[0minitialize_training\u001b[0m\u001b[1;33m(\u001b[0m\u001b[1;33m)\u001b[0m\u001b[1;33m\u001b[0m\u001b[1;33m\u001b[0m\u001b[0m\n\u001b[0m\u001b[0;32m     23\u001b[0m     \u001b[0mtrainer\u001b[0m\u001b[1;33m.\u001b[0m\u001b[0mtrain_and_validate\u001b[0m\u001b[1;33m(\u001b[0m\u001b[1;33m)\u001b[0m\u001b[1;33m\u001b[0m\u001b[1;33m\u001b[0m\u001b[0m\n",
      "\u001b[1;32m~\\Documents\\GitHub\\neuralhydrology\\neuralhydrology\\neuralhydrology\\training\\basetrainer.py\u001b[0m in \u001b[0;36minitialize_training\u001b[1;34m(self)\u001b[0m\n\u001b[0;32m    139\u001b[0m         \u001b[0mIf\u001b[0m \u001b[0mcalled\u001b[0m \u001b[1;32min\u001b[0m \u001b[0ma\u001b[0m\u001b[0;31m \u001b[0m\u001b[0;31m`\u001b[0m\u001b[0;31m`\u001b[0m\u001b[0mcontinue_training\u001b[0m\u001b[0;31m`\u001b[0m\u001b[0;31m`\u001b[0m \u001b[0mcontext\u001b[0m\u001b[1;33m,\u001b[0m \u001b[0mthis\u001b[0m \u001b[0mmodel\u001b[0m \u001b[0mwill\u001b[0m \u001b[0malso\u001b[0m \u001b[0mrestore\u001b[0m \u001b[0mthe\u001b[0m \u001b[0mmodel\u001b[0m \u001b[1;32mand\u001b[0m \u001b[0moptimizer\u001b[0m \u001b[0mstate\u001b[0m\u001b[1;33m.\u001b[0m\u001b[1;33m\u001b[0m\u001b[1;33m\u001b[0m\u001b[0m\n\u001b[0;32m    140\u001b[0m         \"\"\"\n\u001b[1;32m--> 141\u001b[1;33m         \u001b[0mds\u001b[0m \u001b[1;33m=\u001b[0m \u001b[0mself\u001b[0m\u001b[1;33m.\u001b[0m\u001b[0m_get_dataset\u001b[0m\u001b[1;33m(\u001b[0m\u001b[1;33m)\u001b[0m\u001b[1;33m\u001b[0m\u001b[1;33m\u001b[0m\u001b[0m\n\u001b[0m\u001b[0;32m    142\u001b[0m         \u001b[1;32mif\u001b[0m \u001b[0mlen\u001b[0m\u001b[1;33m(\u001b[0m\u001b[0mds\u001b[0m\u001b[1;33m)\u001b[0m \u001b[1;33m==\u001b[0m \u001b[1;36m0\u001b[0m\u001b[1;33m:\u001b[0m\u001b[1;33m\u001b[0m\u001b[1;33m\u001b[0m\u001b[0m\n\u001b[0;32m    143\u001b[0m             \u001b[1;32mraise\u001b[0m \u001b[0mValueError\u001b[0m\u001b[1;33m(\u001b[0m\u001b[1;34m\"Dataset contains no samples.\"\u001b[0m\u001b[1;33m)\u001b[0m\u001b[1;33m\u001b[0m\u001b[1;33m\u001b[0m\u001b[0m\n",
      "\u001b[1;32m~\\Documents\\GitHub\\neuralhydrology\\neuralhydrology\\neuralhydrology\\training\\basetrainer.py\u001b[0m in \u001b[0;36m_get_dataset\u001b[1;34m(self)\u001b[0m\n\u001b[0;32m     77\u001b[0m \u001b[1;33m\u001b[0m\u001b[0m\n\u001b[0;32m     78\u001b[0m     \u001b[1;32mdef\u001b[0m \u001b[0m_get_dataset\u001b[0m\u001b[1;33m(\u001b[0m\u001b[0mself\u001b[0m\u001b[1;33m)\u001b[0m \u001b[1;33m->\u001b[0m \u001b[0mBaseDataset\u001b[0m\u001b[1;33m:\u001b[0m\u001b[1;33m\u001b[0m\u001b[1;33m\u001b[0m\u001b[0m\n\u001b[1;32m---> 79\u001b[1;33m         \u001b[1;32mreturn\u001b[0m \u001b[0mget_dataset\u001b[0m\u001b[1;33m(\u001b[0m\u001b[0mcfg\u001b[0m\u001b[1;33m=\u001b[0m\u001b[0mself\u001b[0m\u001b[1;33m.\u001b[0m\u001b[0mcfg\u001b[0m\u001b[1;33m,\u001b[0m \u001b[0mperiod\u001b[0m\u001b[1;33m=\u001b[0m\u001b[1;34m\"train\"\u001b[0m\u001b[1;33m,\u001b[0m \u001b[0mis_train\u001b[0m\u001b[1;33m=\u001b[0m\u001b[1;32mTrue\u001b[0m\u001b[1;33m,\u001b[0m \u001b[0mscaler\u001b[0m\u001b[1;33m=\u001b[0m\u001b[0mself\u001b[0m\u001b[1;33m.\u001b[0m\u001b[0m_scaler\u001b[0m\u001b[1;33m)\u001b[0m\u001b[1;33m\u001b[0m\u001b[1;33m\u001b[0m\u001b[0m\n\u001b[0m\u001b[0;32m     80\u001b[0m \u001b[1;33m\u001b[0m\u001b[0m\n\u001b[0;32m     81\u001b[0m     \u001b[1;32mdef\u001b[0m \u001b[0m_get_model\u001b[0m\u001b[1;33m(\u001b[0m\u001b[0mself\u001b[0m\u001b[1;33m)\u001b[0m \u001b[1;33m->\u001b[0m \u001b[0mtorch\u001b[0m\u001b[1;33m.\u001b[0m\u001b[0mnn\u001b[0m\u001b[1;33m.\u001b[0m\u001b[0mModule\u001b[0m\u001b[1;33m:\u001b[0m\u001b[1;33m\u001b[0m\u001b[1;33m\u001b[0m\u001b[0m\n",
      "\u001b[1;32m~\\Documents\\GitHub\\neuralhydrology\\neuralhydrology\\neuralhydrology\\datasetzoo\\__init__.py\u001b[0m in \u001b[0;36mget_dataset\u001b[1;34m(cfg, is_train, period, basin, additional_features, id_to_int, scaler)\u001b[0m\n\u001b[0;32m     91\u001b[0m                  \u001b[0madditional_features\u001b[0m\u001b[1;33m=\u001b[0m\u001b[0madditional_features\u001b[0m\u001b[1;33m,\u001b[0m\u001b[1;33m\u001b[0m\u001b[1;33m\u001b[0m\u001b[0m\n\u001b[0;32m     92\u001b[0m                  \u001b[0mid_to_int\u001b[0m\u001b[1;33m=\u001b[0m\u001b[0mid_to_int\u001b[0m\u001b[1;33m,\u001b[0m\u001b[1;33m\u001b[0m\u001b[1;33m\u001b[0m\u001b[0m\n\u001b[1;32m---> 93\u001b[1;33m                  scaler=scaler)\n\u001b[0m\u001b[0;32m     94\u001b[0m     \u001b[1;32mreturn\u001b[0m \u001b[0mds\u001b[0m\u001b[1;33m\u001b[0m\u001b[1;33m\u001b[0m\u001b[0m\n",
      "\u001b[1;32m~\\Documents\\GitHub\\neuralhydrology\\neuralhydrology\\neuralhydrology\\datasetzoo\\hysets.py\u001b[0m in \u001b[0;36m__init__\u001b[1;34m(self, cfg, is_train, period, basin, additional_features, id_to_int, scaler)\u001b[0m\n\u001b[0;32m     68\u001b[0m                                               \u001b[0madditional_features\u001b[0m\u001b[1;33m=\u001b[0m\u001b[0madditional_features\u001b[0m\u001b[1;33m,\u001b[0m\u001b[1;33m\u001b[0m\u001b[1;33m\u001b[0m\u001b[0m\n\u001b[0;32m     69\u001b[0m                                               \u001b[0mid_to_int\u001b[0m\u001b[1;33m=\u001b[0m\u001b[0mid_to_int\u001b[0m\u001b[1;33m,\u001b[0m\u001b[1;33m\u001b[0m\u001b[1;33m\u001b[0m\u001b[0m\n\u001b[1;32m---> 70\u001b[1;33m                                               scaler=scaler)\n\u001b[0m\u001b[0;32m     71\u001b[0m \u001b[1;33m\u001b[0m\u001b[0m\n\u001b[0;32m     72\u001b[0m     \u001b[1;32mdef\u001b[0m \u001b[0m_load_basin_data\u001b[0m\u001b[1;33m(\u001b[0m\u001b[0mself\u001b[0m\u001b[1;33m,\u001b[0m \u001b[0mbasin\u001b[0m\u001b[1;33m:\u001b[0m \u001b[0mstr\u001b[0m\u001b[1;33m)\u001b[0m \u001b[1;33m->\u001b[0m \u001b[0mpd\u001b[0m\u001b[1;33m.\u001b[0m\u001b[0mDataFrame\u001b[0m\u001b[1;33m:\u001b[0m\u001b[1;33m\u001b[0m\u001b[1;33m\u001b[0m\u001b[0m\n",
      "\u001b[1;32m~\\Documents\\GitHub\\neuralhydrology\\neuralhydrology\\neuralhydrology\\datasetzoo\\basedataset.py\u001b[0m in \u001b[0;36m__init__\u001b[1;34m(self, cfg, is_train, period, basin, additional_features, id_to_int, scaler)\u001b[0m\n\u001b[0;32m    129\u001b[0m \u001b[1;33m\u001b[0m\u001b[0m\n\u001b[0;32m    130\u001b[0m         \u001b[1;31m# load and preprocess data\u001b[0m\u001b[1;33m\u001b[0m\u001b[1;33m\u001b[0m\u001b[1;33m\u001b[0m\u001b[0m\n\u001b[1;32m--> 131\u001b[1;33m         \u001b[0mself\u001b[0m\u001b[1;33m.\u001b[0m\u001b[0m_load_data\u001b[0m\u001b[1;33m(\u001b[0m\u001b[1;33m)\u001b[0m\u001b[1;33m\u001b[0m\u001b[1;33m\u001b[0m\u001b[0m\n\u001b[0m\u001b[0;32m    132\u001b[0m \u001b[1;33m\u001b[0m\u001b[0m\n\u001b[0;32m    133\u001b[0m         \u001b[1;32mif\u001b[0m \u001b[0mself\u001b[0m\u001b[1;33m.\u001b[0m\u001b[0mis_train\u001b[0m\u001b[1;33m:\u001b[0m\u001b[1;33m\u001b[0m\u001b[1;33m\u001b[0m\u001b[0m\n",
      "\u001b[1;32m~\\Documents\\GitHub\\neuralhydrology\\neuralhydrology\\neuralhydrology\\datasetzoo\\basedataset.py\u001b[0m in \u001b[0;36m_load_data\u001b[1;34m(self)\u001b[0m\n\u001b[0;32m    646\u001b[0m     \u001b[1;32mdef\u001b[0m \u001b[0m_load_data\u001b[0m\u001b[1;33m(\u001b[0m\u001b[0mself\u001b[0m\u001b[1;33m)\u001b[0m\u001b[1;33m:\u001b[0m\u001b[1;33m\u001b[0m\u001b[1;33m\u001b[0m\u001b[0m\n\u001b[0;32m    647\u001b[0m         \u001b[1;31m# load attributes first to sanity-check those features before doing the compute expensive time series loading\u001b[0m\u001b[1;33m\u001b[0m\u001b[1;33m\u001b[0m\u001b[1;33m\u001b[0m\u001b[0m\n\u001b[1;32m--> 648\u001b[1;33m         \u001b[0mself\u001b[0m\u001b[1;33m.\u001b[0m\u001b[0m_load_combined_attributes\u001b[0m\u001b[1;33m(\u001b[0m\u001b[1;33m)\u001b[0m\u001b[1;33m\u001b[0m\u001b[1;33m\u001b[0m\u001b[0m\n\u001b[0m\u001b[0;32m    649\u001b[0m \u001b[1;33m\u001b[0m\u001b[0m\n\u001b[0;32m    650\u001b[0m         \u001b[0mxr\u001b[0m \u001b[1;33m=\u001b[0m \u001b[0mself\u001b[0m\u001b[1;33m.\u001b[0m\u001b[0m_load_or_create_xarray_dataset\u001b[0m\u001b[1;33m(\u001b[0m\u001b[1;33m)\u001b[0m\u001b[1;33m\u001b[0m\u001b[1;33m\u001b[0m\u001b[0m\n",
      "\u001b[1;32m~\\Documents\\GitHub\\neuralhydrology\\neuralhydrology\\neuralhydrology\\datasetzoo\\basedataset.py\u001b[0m in \u001b[0;36m_load_combined_attributes\u001b[1;34m(self)\u001b[0m\n\u001b[0;32m    604\u001b[0m             \u001b[1;31m# in case of training (not finetuning) check for NaNs in feature std.\u001b[0m\u001b[1;33m\u001b[0m\u001b[1;33m\u001b[0m\u001b[1;33m\u001b[0m\u001b[0m\n\u001b[0;32m    605\u001b[0m             \u001b[1;32mif\u001b[0m \u001b[0mself\u001b[0m\u001b[1;33m.\u001b[0m\u001b[0m_compute_scaler\u001b[0m\u001b[1;33m:\u001b[0m\u001b[1;33m\u001b[0m\u001b[1;33m\u001b[0m\u001b[0m\n\u001b[1;32m--> 606\u001b[1;33m                 \u001b[0mutils\u001b[0m\u001b[1;33m.\u001b[0m\u001b[0mattributes_sanity_check\u001b[0m\u001b[1;33m(\u001b[0m\u001b[0mdf\u001b[0m\u001b[1;33m=\u001b[0m\u001b[0mdf\u001b[0m\u001b[1;33m)\u001b[0m\u001b[1;33m\u001b[0m\u001b[1;33m\u001b[0m\u001b[0m\n\u001b[0m\u001b[0;32m    607\u001b[0m \u001b[1;33m\u001b[0m\u001b[0m\n\u001b[0;32m    608\u001b[0m             \u001b[0mdfs\u001b[0m\u001b[1;33m.\u001b[0m\u001b[0mappend\u001b[0m\u001b[1;33m(\u001b[0m\u001b[0mdf\u001b[0m\u001b[1;33m)\u001b[0m\u001b[1;33m\u001b[0m\u001b[1;33m\u001b[0m\u001b[0m\n",
      "\u001b[1;32m~\\Documents\\GitHub\\neuralhydrology\\neuralhydrology\\neuralhydrology\\datautils\\utils.py\u001b[0m in \u001b[0;36mattributes_sanity_check\u001b[1;34m(df)\u001b[0m\n\u001b[0;32m    107\u001b[0m             \u001b[1;34m\"and restart the run. \\n\"\u001b[0m\u001b[1;33m,\u001b[0m \u001b[1;34mf\"Attributes: {attributes}\"\u001b[0m\u001b[1;33m\u001b[0m\u001b[1;33m\u001b[0m\u001b[0m\n\u001b[0;32m    108\u001b[0m         ]\n\u001b[1;32m--> 109\u001b[1;33m         \u001b[1;32mraise\u001b[0m \u001b[0mRuntimeError\u001b[0m\u001b[1;33m(\u001b[0m\u001b[1;34m\"\"\u001b[0m\u001b[1;33m.\u001b[0m\u001b[0mjoin\u001b[0m\u001b[1;33m(\u001b[0m\u001b[0mmsg\u001b[0m\u001b[1;33m)\u001b[0m\u001b[1;33m)\u001b[0m\u001b[1;33m\u001b[0m\u001b[1;33m\u001b[0m\u001b[0m\n\u001b[0m\u001b[0;32m    110\u001b[0m \u001b[1;33m\u001b[0m\u001b[0m\n\u001b[0;32m    111\u001b[0m     \u001b[1;31m# Check for NaNs in any attribute of any basin\u001b[0m\u001b[1;33m\u001b[0m\u001b[1;33m\u001b[0m\u001b[1;33m\u001b[0m\u001b[0m\n",
      "\u001b[1;31mRuntimeError\u001b[0m: The following attributes have a std of zero or NaN, which results in NaN's when normalizing the features. Remove the attributes from the attribute feature list and restart the run. \nAttributes: ['Elevation_m', 'Slope_deg', 'Land_Use_Forest_frac', 'Land_Use_Grass_frac', 'Land_Use_Wetland_frac', 'Land_Use_Water_frac', 'Land_Use_Urban_frac', 'Land_Use_Shrubs_frac', 'Land_Use_Crops_frac', 'precip_mean(mm/d)', 'precip_high(mm/d)', 'precip_mean(mm/mo)', 'precip_mean(mm/y)', 'precip_high_freq(d/yr)', 'precip_high_dur(d)', 'precip_low_freq(d/yr)', 'precip_low_dur(d)', 'baseflow_index(-)', 'q_mean(mm/d)', 'q_high(mm/d)', 'q_low(mm/d)', 'q_high_freq(d/yr)', 'q_high_dur(d)', 'q_low_dur(d)', 'q_95', 'q_5', 'runoff_ratio', 'q_adf(-)', 'q_adf_p(-)', 'q_adf_cv1(-)', 'q_adf_cv5(-)', 'q_adf_cv10(-)', 'q_seasonality(-)', 'tmean_seasonality(-)', 'tmean_alltime(C)', 'tmax_annual_mean(C)', 'tmin_annual_mean(C)']"
     ]
    }
   ],
   "source": [
    "finetune(Path(\"hysets_finetune.yml\"))"
   ]
  },
  {
   "cell_type": "markdown",
   "metadata": {},
   "source": [
    "Looking at the validation result, we can see an increase of roughly 0.05 NSE.\n",
    "\n",
    "Last but not least, we will compare the pre-trained and the finetuned model on the test period. For this, we will make use of the `eval_run` function from `neuralhydrolgy.nh_run`. Alternatively, you could evaluate both runs from the command line by calling\n",
    "\n",
    "```bash\n",
    "nh-run evaluate --run-dir /path/to/run_directory/\n",
    "```"
   ]
  },
  {
   "cell_type": "code",
   "execution_count": 20,
   "metadata": {},
   "outputs": [
    {
     "name": "stdout",
     "output_type": "stream",
     "text": [
      "2022-01-09 14:16:09,586: Using the model weights from runs/cudalstm_531_basins_0901_135400/model_epoch003.pt\n",
      "# Evaluation: 100%|██████████| 531/531 [02:09<00:00,  4.11it/s]\n",
      "2022-01-09 14:18:18,959: Stored results at runs/cudalstm_531_basins_0901_135400/test/model_epoch003/test_results.p\n"
     ]
    }
   ],
   "source": [
    "eval_run(run_dir, period=\"test\")"
   ]
  },
  {
   "cell_type": "markdown",
   "metadata": {},
   "source": [
    "Now we can call the `eval_run()` function as above, but pointing to the directory of the finetuned run. By default, this function evaluates the last checkpoint, which can be changed with the `epoch` argument. Here however, we use the default. Again, if you want to run this notebook locally, make sure to adapt the folder name of the finetune run."
   ]
  },
  {
   "cell_type": "code",
   "execution_count": 23,
   "metadata": {},
   "outputs": [
    {
     "name": "stdout",
     "output_type": "stream",
     "text": [
      "2022-01-09 14:19:06,488: Using the model weights from runs/cudalstm_531_basins_finetuned_0901_141548/model_epoch010.pt\n",
      "# Evaluation: 100%|██████████| 1/1 [00:00<00:00,  4.27it/s]\n",
      "2022-01-09 14:19:06,726: Stored results at runs/cudalstm_531_basins_finetuned_0901_141548/test/model_epoch010/test_results.p\n"
     ]
    }
   ],
   "source": [
    "finetune_dir = Path(\"runs/cudalstm_531_basins_finetuned_0901_141548\")\n",
    "eval_run(finetune_dir, period=\"test\")"
   ]
  },
  {
   "cell_type": "markdown",
   "metadata": {},
   "source": [
    "Now let's look at the test period results of the pre-trained base model and the finetuned model for the basin that we chose above."
   ]
  },
  {
   "cell_type": "code",
   "execution_count": 24,
   "metadata": {},
   "outputs": [
    {
     "name": "stdout",
     "output_type": "stream",
     "text": [
      "Basin 02112360 base model performance: 0.303\n",
      "Performance after finetuning: 0.580\n"
     ]
    }
   ],
   "source": [
    "# load test results of the base run\n",
    "df_pretrained = pd.read_csv(run_dir / \"test/model_epoch003/test_metrics.csv\", dtype={'basin': str})\n",
    "df_pretrained = df_pretrained.set_index(\"basin\")\n",
    "    \n",
    "# load test results of the finetuned model\n",
    "df_finetuned = pd.read_csv(finetune_dir / \"test/model_epoch010/test_metrics.csv\", dtype={'basin': str})\n",
    "df_finetuned = df_finetuned.set_index(\"basin\")\n",
    "    \n",
    "# extract basin performance\n",
    "base_model_nse = df_pretrained.loc[df_pretrained.index == basin, \"NSE\"].values[0]\n",
    "finetune_nse = df_finetuned.loc[df_finetuned.index == basin, \"NSE\"].values[0]\n",
    "print(f\"Basin {basin} base model performance: {base_model_nse:.3f}\")\n",
    "print(f\"Performance after finetuning: {finetune_nse:.3f}\")"
   ]
  },
  {
   "cell_type": "markdown",
   "metadata": {},
   "source": [
    "So we see roughly the same performance increase in the test period (slightly higher), which is great. However, note that a) our base model was not optimally trained (we stopped quite early) but also b) the finetuning settings were chosen rather randomly. From our experience so far, you can almost always get performance increases for individual basins with finetuning, but it is difficult to find settings that are universally applicable. However, this tutorial was just a showcase of how easy it actually is to finetune models with the NeuralHydrology library. Now it is up to you to experiment with it."
   ]
  }
 ],
 "metadata": {
  "kernelspec": {
   "display_name": "Python 3.7.15 ('neuralhydrology')",
   "language": "python",
   "name": "python3"
  },
  "language_info": {
   "codemirror_mode": {
    "name": "ipython",
    "version": 3
   },
   "file_extension": ".py",
   "mimetype": "text/x-python",
   "name": "python",
   "nbconvert_exporter": "python",
   "pygments_lexer": "ipython3",
   "version": "3.7.16"
  },
  "vscode": {
   "interpreter": {
    "hash": "6aa8ee6c85fe5f665667a040fb2448b4f04355b5dff35716c2ee86b5644c8b91"
   }
  }
 },
 "nbformat": 4,
 "nbformat_minor": 4
}
